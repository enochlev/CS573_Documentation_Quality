{
 "cells": [
  {
   "cell_type": "code",
   "execution_count": 1,
   "metadata": {},
   "outputs": [
    {
     "name": "stderr",
     "output_type": "stream",
     "text": [
      "c:\\Users\\Rubik\\Documents\\CS573_Documentation_Quality\\.venv\\Lib\\site-packages\\tqdm\\auto.py:21: TqdmWarning: IProgress not found. Please update jupyter and ipywidgets. See https://ipywidgets.readthedocs.io/en/stable/user_install.html\n",
      "  from .autonotebook import tqdm as notebook_tqdm\n"
     ]
    }
   ],
   "source": [
    "import os\n",
    "import time\n",
    "from datetime import datetime, timezone, timedelta\n",
    "import pandas as pd\n",
    "from huggingface_hub import HfApi, HfFolder\n",
    "from tqdm import tqdm\n",
    "\n",
    "\n",
    "# Constants\n",
    "MIN_DOWNLOADS = 100\n",
    "SINCE_DATE = datetime.now(timezone.utc) - timedelta(days=365*3)  # Collect models created in the last 3 year\n",
    "OUTPUT_CSV = \"hf_models.csv\"\n",
    "OUTPUT_DIR = \"model_files\"  # Directory to save model files\n",
    "\n",
    "#os.environ[\"GITHUB_ACCESS_TOKEN\"] = GITHUB_ACCESS_TOKEN\n",
    "#os.environ[\"HUGGINGFACE_ACCESS_TOKEN\"] = HUGGINGFACE_ACCESS_TOKEN\n",
    "\n",
    "\n",
    "\n",
    "keywords = {\n",
    "  \"keywords\": {\n",
    "    \"getting-started\": {\n",
    "      \"gh-header-keywords\": [\n",
    "        \"getting started\",\n",
    "        \"installation\",\n",
    "        \"quick start\",\n",
    "        \"quickstart\",\n",
    "        \"setup\",\n",
    "        \"usage\",\n",
    "        \"example\",\n",
    "        \"demo\"\n",
    "      ],\n",
    "      \"hf-header-keywords\": [\n",
    "        \"how to use\",\n",
    "        \"usage\",\n",
    "        \"inference\",\n",
    "        \"example usage\",\n",
    "        \"sample code\",\n",
    "        \"model usage\",\n",
    "        \"usage example\"\n",
    "      ],\n",
    "      \"gh-content-keywords\": [\n",
    "        \"install\",\n",
    "        \"pip\",\n",
    "        \"requirements\",\n",
    "        \"dependency\",\n",
    "        \"clone\",\n",
    "        \"git clone\",\n",
    "        \"build\",\n",
    "        \"run\",\n",
    "        \"execute\",\n",
    "        \"usage\",\n",
    "        \"command line\",\n",
    "        \"code snippet\",\n",
    "        \"environment\",\n",
    "        \"virtualenv\",\n",
    "        \"conda\",\n",
    "        \"script\",\n",
    "        \"examples\",\n",
    "        \"usage instructions\",\n",
    "        \"dependencies\",\n",
    "        \"install instructions\"\n",
    "      ],\n",
    "      \"hf-content-keywords\": [\n",
    "        \"import\",\n",
    "        \"from transformers import\",\n",
    "        \"pipeline\",\n",
    "        \"tokenizer\",\n",
    "        \"model\",\n",
    "        \"generate\",\n",
    "        \"inference\",\n",
    "        \"code snippet\",\n",
    "        \"PyTorch\",\n",
    "        \"TensorFlow\",\n",
    "        \"example\",\n",
    "        \"Hugging Face Hub\",\n",
    "        \"task\",\n",
    "        \"fine-tune\",\n",
    "        \"load model\",\n",
    "        \"preprocess\",\n",
    "        \"prompt\",\n",
    "        \"output\",\n",
    "        \"usage example\",\n",
    "        \"inference example\"\n",
    "      ]\n",
    "    },\n",
    "    \"contributing\": {\n",
    "      \"gh-header-keywords\": [\n",
    "        \"contributing\",\n",
    "        \"contribution\",\n",
    "        \"contribute\",\n",
    "        \"pull request\",\n",
    "        \"bug report\",\n",
    "        \"issue\"\n",
    "      ],\n",
    "      \"hf-header-keywords\": [\n",
    "        \"how to contribute\",\n",
    "        \"contribute\",\n",
    "        \"report issues\",\n",
    "        \"feedback\",\n",
    "        \"suggestions\",\n",
    "        \"contact\",\n",
    "        \"collaborate\",\n",
    "        \"acknowledgements\"\n",
    "      ],\n",
    "      \"gh-content-keywords\": [\n",
    "        \"fork\",\n",
    "        \"pull request\",\n",
    "        \"issue tracker\",\n",
    "        \"guidelines\",\n",
    "        \"code style\",\n",
    "        \"testing\",\n",
    "        \"documentation\",\n",
    "        \"contributing guide\",\n",
    "        \"report bugs\",\n",
    "        \"feature requests\",\n",
    "        \"collaboration\",\n",
    "        \"development\",\n",
    "        \"submit\",\n",
    "        \"branch\",\n",
    "        \"merge\",\n",
    "        \"code review\",\n",
    "        \"community\",\n",
    "        \"issues\",\n",
    "        \"bug reports\",\n",
    "        \"commit\"\n",
    "      ],\n",
    "      \"hf-content-keywords\": [\n",
    "        \"issues\",\n",
    "        \"contact\",\n",
    "        \"suggestions\",\n",
    "        \"improvements\",\n",
    "        \"collaboration\",\n",
    "        \"email\",\n",
    "        \"open an issue\",\n",
    "        \"feedback\",\n",
    "        \"bug report\",\n",
    "        \"help\",\n",
    "        \"reach out\",\n",
    "        \"community\",\n",
    "        \"discussion\",\n",
    "        \"contribution\",\n",
    "        \"pull request\",\n",
    "        \"modify\",\n",
    "        \"enhance\",\n",
    "        \"questions\",\n",
    "        \"support\",\n",
    "        \"contact author\"\n",
    "      ]\n",
    "    },\n",
    "    \"license\": {\n",
    "      \"gh-header-keywords\": [\n",
    "        \"license\",\n",
    "        \"licence\",\n",
    "        \"copy right\"\n",
    "      ],\n",
    "      \"hf-header-keywords\": [\n",
    "        \"license\",\n",
    "        \"licence\",\n",
    "        \"copyright\",\n",
    "        \"terms\",\n",
    "        \"usage terms\",\n",
    "        \"legal\",\n",
    "        \"rights\"\n",
    "      ],\n",
    "      \"gh-content-keywords\": [\n",
    "        \"MIT\",\n",
    "        \"Apache\",\n",
    "        \"GPL\",\n",
    "        \"BSD\",\n",
    "        \"terms\",\n",
    "        \"conditions\",\n",
    "        \"distribution\",\n",
    "        \"modification\",\n",
    "        \"use\",\n",
    "        \"commercial use\",\n",
    "        \"liability\",\n",
    "        \"warranty\",\n",
    "        \"limitations\",\n",
    "        \"rights\",\n",
    "        \"reproduction\",\n",
    "        \"software license\",\n",
    "        \"license text\",\n",
    "        \"open source\",\n",
    "        \"copying\",\n",
    "        \"proprietary\"\n",
    "      ],\n",
    "      \"hf-content-keywords\": [\n",
    "        \"MIT\",\n",
    "        \"Apache\",\n",
    "        \"BSD\",\n",
    "        \"GPL\",\n",
    "        \"terms\",\n",
    "        \"conditions\",\n",
    "        \"use\",\n",
    "        \"limitations\",\n",
    "        \"copyright\",\n",
    "        \"redistribution\",\n",
    "        \"open source\",\n",
    "        \"commercial use\",\n",
    "        \"non-commercial\",\n",
    "        \"Creative Commons\",\n",
    "        \"CC BY\",\n",
    "        \"license text\",\n",
    "        \"restrictions\",\n",
    "        \"public domain\",\n",
    "        \"responsibility\",\n",
    "        \"liability\"\n",
    "      ]\n",
    "    }\n",
    "  }\n",
    "}"
   ]
  },
  {
   "cell_type": "code",
   "execution_count": null,
   "metadata": {},
   "outputs": [
    {
     "name": "stdout",
     "output_type": "stream",
     "text": [
      "Fetching models from Hugging Face Hub...\n"
     ]
    },
    {
     "name": "stderr",
     "output_type": "stream",
     "text": [
      "45it [00:05,  9.82it/s]"
     ]
    },
    {
     "name": "stdout",
     "output_type": "stream",
     "text": [
      "6913698\n"
     ]
    },
    {
     "name": "stderr",
     "output_type": "stream",
     "text": [
      "66it [00:07,  9.75it/s]"
     ]
    },
    {
     "name": "stdout",
     "output_type": "stream",
     "text": [
      "4515280\n"
     ]
    },
    {
     "name": "stderr",
     "output_type": "stream",
     "text": [
      "70it [00:08,  9.84it/s]"
     ]
    },
    {
     "name": "stdout",
     "output_type": "stream",
     "text": [
      "3900270\n"
     ]
    },
    {
     "name": "stderr",
     "output_type": "stream",
     "text": [
      "74it [00:08,  9.78it/s]"
     ]
    },
    {
     "name": "stdout",
     "output_type": "stream",
     "text": [
      "3729660\n"
     ]
    },
    {
     "name": "stderr",
     "output_type": "stream",
     "text": [
      "105it [00:11,  9.78it/s]"
     ]
    },
    {
     "name": "stdout",
     "output_type": "stream",
     "text": [
      "2731630\n"
     ]
    },
    {
     "name": "stderr",
     "output_type": "stream",
     "text": [
      "120it [00:13,  9.80it/s]"
     ]
    },
    {
     "name": "stdout",
     "output_type": "stream",
     "text": [
      "2303268\n"
     ]
    },
    {
     "name": "stderr",
     "output_type": "stream",
     "text": [
      "146it [00:15,  9.70it/s]"
     ]
    },
    {
     "name": "stdout",
     "output_type": "stream",
     "text": [
      "1874246\n"
     ]
    },
    {
     "name": "stderr",
     "output_type": "stream",
     "text": [
      "179it [00:19,  9.74it/s]"
     ]
    },
    {
     "name": "stdout",
     "output_type": "stream",
     "text": [
      "1703174\n"
     ]
    },
    {
     "name": "stderr",
     "output_type": "stream",
     "text": [
      "213it [00:22,  9.76it/s]"
     ]
    },
    {
     "name": "stdout",
     "output_type": "stream",
     "text": [
      "1312652\n"
     ]
    },
    {
     "name": "stderr",
     "output_type": "stream",
     "text": [
      "247it [00:26,  9.70it/s]"
     ]
    },
    {
     "name": "stdout",
     "output_type": "stream",
     "text": [
      "1133858\n"
     ]
    },
    {
     "name": "stderr",
     "output_type": "stream",
     "text": [
      "280it [00:29,  9.83it/s]"
     ]
    },
    {
     "name": "stdout",
     "output_type": "stream",
     "text": [
      "920678\n"
     ]
    },
    {
     "name": "stderr",
     "output_type": "stream",
     "text": [
      "295it [00:31,  9.82it/s]"
     ]
    },
    {
     "name": "stdout",
     "output_type": "stream",
     "text": [
      "862378\n"
     ]
    },
    {
     "name": "stderr",
     "output_type": "stream",
     "text": [
      "314it [00:33,  9.88it/s]"
     ]
    },
    {
     "name": "stdout",
     "output_type": "stream",
     "text": [
      "792704\n"
     ]
    },
    {
     "name": "stderr",
     "output_type": "stream",
     "text": [
      "316it [00:33,  9.89it/s]"
     ]
    },
    {
     "name": "stdout",
     "output_type": "stream",
     "text": [
      "788524\n"
     ]
    },
    {
     "name": "stderr",
     "output_type": "stream",
     "text": [
      "326it [00:34,  9.90it/s]"
     ]
    },
    {
     "name": "stdout",
     "output_type": "stream",
     "text": [
      "769494\n"
     ]
    },
    {
     "name": "stderr",
     "output_type": "stream",
     "text": [
      "340it [00:35,  9.90it/s]"
     ]
    },
    {
     "name": "stdout",
     "output_type": "stream",
     "text": [
      "747824\n"
     ]
    },
    {
     "name": "stderr",
     "output_type": "stream",
     "text": [
      "350it [00:36,  9.89it/s]"
     ]
    },
    {
     "name": "stdout",
     "output_type": "stream",
     "text": [
      "715484\n"
     ]
    },
    {
     "name": "stderr",
     "output_type": "stream",
     "text": [
      "371it [00:38,  9.83it/s]"
     ]
    },
    {
     "name": "stdout",
     "output_type": "stream",
     "text": [
      "666072\n"
     ]
    },
    {
     "name": "stderr",
     "output_type": "stream",
     "text": [
      "373it [00:38,  9.82it/s]"
     ]
    },
    {
     "name": "stdout",
     "output_type": "stream",
     "text": [
      "662464\n"
     ]
    },
    {
     "name": "stderr",
     "output_type": "stream",
     "text": [
      "382it [00:39,  9.83it/s]"
     ]
    },
    {
     "name": "stdout",
     "output_type": "stream",
     "text": [
      "646184\n"
     ]
    },
    {
     "name": "stderr",
     "output_type": "stream",
     "text": [
      "388it [00:40,  9.84it/s]"
     ]
    },
    {
     "name": "stdout",
     "output_type": "stream",
     "text": [
      "634942\n"
     ]
    },
    {
     "name": "stderr",
     "output_type": "stream",
     "text": [
      "389it [00:40,  9.81it/s]"
     ]
    },
    {
     "name": "stdout",
     "output_type": "stream",
     "text": [
      "630498\n"
     ]
    },
    {
     "name": "stderr",
     "output_type": "stream",
     "text": [
      "436it [00:45,  9.76it/s]"
     ]
    },
    {
     "name": "stdout",
     "output_type": "stream",
     "text": [
      "499906\n"
     ]
    },
    {
     "name": "stderr",
     "output_type": "stream",
     "text": [
      "459it [00:47,  9.87it/s]"
     ]
    },
    {
     "name": "stdout",
     "output_type": "stream",
     "text": [
      "470184\n"
     ]
    },
    {
     "name": "stderr",
     "output_type": "stream",
     "text": [
      "479it [00:49,  9.67it/s]"
     ]
    },
    {
     "name": "stdout",
     "output_type": "stream",
     "text": [
      "432806\n"
     ]
    },
    {
     "name": "stderr",
     "output_type": "stream",
     "text": [
      "490it [00:50,  9.67it/s]"
     ]
    },
    {
     "name": "stdout",
     "output_type": "stream",
     "text": [
      "425898\n"
     ]
    },
    {
     "name": "stderr",
     "output_type": "stream",
     "text": [
      "555it [00:57,  9.80it/s]"
     ]
    },
    {
     "name": "stdout",
     "output_type": "stream",
     "text": [
      "342408\n"
     ]
    },
    {
     "name": "stderr",
     "output_type": "stream",
     "text": [
      "575it [00:59,  9.73it/s]"
     ]
    },
    {
     "name": "stdout",
     "output_type": "stream",
     "text": [
      "323048\n"
     ]
    },
    {
     "name": "stderr",
     "output_type": "stream",
     "text": [
      "699it [01:12,  9.70it/s]"
     ]
    },
    {
     "name": "stdout",
     "output_type": "stream",
     "text": [
      "231176\n"
     ]
    },
    {
     "name": "stderr",
     "output_type": "stream",
     "text": [
      "740it [01:16,  9.65it/s]"
     ]
    },
    {
     "name": "stdout",
     "output_type": "stream",
     "text": [
      "207482\n"
     ]
    },
    {
     "name": "stderr",
     "output_type": "stream",
     "text": [
      "802it [01:23,  9.72it/s]"
     ]
    },
    {
     "name": "stdout",
     "output_type": "stream",
     "text": [
      "175516\n"
     ]
    },
    {
     "name": "stderr",
     "output_type": "stream",
     "text": [
      "805it [01:23,  9.73it/s]"
     ]
    },
    {
     "name": "stdout",
     "output_type": "stream",
     "text": [
      "175120\n"
     ]
    },
    {
     "name": "stderr",
     "output_type": "stream",
     "text": [
      "812it [01:24,  9.66it/s]"
     ]
    },
    {
     "name": "stdout",
     "output_type": "stream",
     "text": [
      "172876\n"
     ]
    },
    {
     "name": "stderr",
     "output_type": "stream",
     "text": [
      "826it [01:25,  9.78it/s]"
     ]
    },
    {
     "name": "stdout",
     "output_type": "stream",
     "text": [
      "166452\n"
     ]
    },
    {
     "name": "stderr",
     "output_type": "stream",
     "text": [
      "828it [01:25,  9.84it/s]"
     ]
    },
    {
     "name": "stdout",
     "output_type": "stream",
     "text": [
      "164780\n"
     ]
    },
    {
     "name": "stderr",
     "output_type": "stream",
     "text": [
      "844it [01:27,  9.84it/s]"
     ]
    },
    {
     "name": "stdout",
     "output_type": "stream",
     "text": [
      "159412\n"
     ]
    },
    {
     "name": "stderr",
     "output_type": "stream",
     "text": [
      "852it [01:28,  9.63it/s]"
     ]
    },
    {
     "name": "stdout",
     "output_type": "stream",
     "text": [
      "157366\n"
     ]
    },
    {
     "name": "stderr",
     "output_type": "stream",
     "text": [
      "863it [01:29,  9.74it/s]"
     ]
    },
    {
     "name": "stdout",
     "output_type": "stream",
     "text": [
      "153142\n"
     ]
    },
    {
     "name": "stderr",
     "output_type": "stream",
     "text": [
      "886it [01:31,  9.79it/s]"
     ]
    },
    {
     "name": "stdout",
     "output_type": "stream",
     "text": [
      "145926\n"
     ]
    },
    {
     "name": "stderr",
     "output_type": "stream",
     "text": [
      "897it [01:32,  9.79it/s]"
     ]
    },
    {
     "name": "stdout",
     "output_type": "stream",
     "text": [
      "142758\n"
     ]
    },
    {
     "name": "stderr",
     "output_type": "stream",
     "text": [
      "908it [01:33,  9.61it/s]"
     ]
    },
    {
     "name": "stdout",
     "output_type": "stream",
     "text": [
      "139766\n"
     ]
    },
    {
     "name": "stderr",
     "output_type": "stream",
     "text": [
      "912it [01:34,  9.77it/s]"
     ]
    },
    {
     "name": "stdout",
     "output_type": "stream",
     "text": [
      "138930\n"
     ]
    },
    {
     "name": "stderr",
     "output_type": "stream",
     "text": [
      "914it [01:34,  9.72it/s]"
     ]
    },
    {
     "name": "stdout",
     "output_type": "stream",
     "text": [
      "138138\n"
     ]
    },
    {
     "name": "stderr",
     "output_type": "stream",
     "text": [
      "1008it [01:44,  8.54it/s]"
     ]
    },
    {
     "name": "stdout",
     "output_type": "stream",
     "text": [
      "118030\n"
     ]
    },
    {
     "name": "stderr",
     "output_type": "stream",
     "text": [
      "1022it [01:46,  9.79it/s]"
     ]
    },
    {
     "name": "stdout",
     "output_type": "stream",
     "text": [
      "114224\n"
     ]
    },
    {
     "name": "stderr",
     "output_type": "stream",
     "text": [
      "1069it [01:51,  9.65it/s]"
     ]
    },
    {
     "name": "stdout",
     "output_type": "stream",
     "text": [
      "104720\n"
     ]
    },
    {
     "name": "stderr",
     "output_type": "stream",
     "text": [
      "1154it [01:59,  9.69it/s]"
     ]
    },
    {
     "name": "stdout",
     "output_type": "stream",
     "text": [
      "90662\n"
     ]
    },
    {
     "name": "stderr",
     "output_type": "stream",
     "text": [
      "1166it [02:01,  9.71it/s]"
     ]
    },
    {
     "name": "stdout",
     "output_type": "stream",
     "text": [
      "89386\n"
     ]
    },
    {
     "name": "stderr",
     "output_type": "stream",
     "text": [
      "1185it [02:03,  9.67it/s]"
     ]
    },
    {
     "name": "stdout",
     "output_type": "stream",
     "text": [
      "87186\n"
     ]
    },
    {
     "name": "stderr",
     "output_type": "stream",
     "text": [
      "1210it [02:05,  9.60it/s]"
     ]
    },
    {
     "name": "stdout",
     "output_type": "stream",
     "text": [
      "84502\n"
     ]
    },
    {
     "name": "stderr",
     "output_type": "stream",
     "text": [
      "1249it [02:09,  9.71it/s]"
     ]
    },
    {
     "name": "stdout",
     "output_type": "stream",
     "text": [
      "79904\n"
     ]
    },
    {
     "name": "stderr",
     "output_type": "stream",
     "text": [
      "1274it [02:12,  9.78it/s]"
     ]
    },
    {
     "name": "stdout",
     "output_type": "stream",
     "text": [
      "75416\n"
     ]
    },
    {
     "name": "stderr",
     "output_type": "stream",
     "text": [
      "1292it [02:14,  9.74it/s]"
     ]
    },
    {
     "name": "stdout",
     "output_type": "stream",
     "text": [
      "73590\n"
     ]
    },
    {
     "name": "stderr",
     "output_type": "stream",
     "text": [
      "1328it [02:17,  9.62it/s]"
     ]
    },
    {
     "name": "stdout",
     "output_type": "stream",
     "text": [
      "69938\n"
     ]
    },
    {
     "name": "stderr",
     "output_type": "stream",
     "text": [
      "1342it [02:19,  9.74it/s]"
     ]
    },
    {
     "name": "stdout",
     "output_type": "stream",
     "text": [
      "69212\n"
     ]
    },
    {
     "name": "stderr",
     "output_type": "stream",
     "text": [
      "1345it [02:19,  9.67it/s]"
     ]
    },
    {
     "name": "stdout",
     "output_type": "stream",
     "text": [
      "68728\n"
     ]
    },
    {
     "name": "stderr",
     "output_type": "stream",
     "text": [
      "1385it [02:23,  9.66it/s]"
     ]
    },
    {
     "name": "stdout",
     "output_type": "stream",
     "text": [
      "65868\n"
     ]
    },
    {
     "name": "stderr",
     "output_type": "stream",
     "text": [
      "1397it [02:24,  9.64it/s]"
     ]
    },
    {
     "name": "stdout",
     "output_type": "stream",
     "text": [
      "65428\n"
     ]
    },
    {
     "name": "stderr",
     "output_type": "stream",
     "text": [
      "1415it [02:26,  9.86it/s]"
     ]
    },
    {
     "name": "stdout",
     "output_type": "stream",
     "text": [
      "64306\n"
     ]
    },
    {
     "name": "stderr",
     "output_type": "stream",
     "text": [
      "1418it [02:26,  9.80it/s]"
     ]
    },
    {
     "name": "stdout",
     "output_type": "stream",
     "text": [
      "64218\n"
     ]
    },
    {
     "name": "stderr",
     "output_type": "stream",
     "text": [
      "1427it [02:27,  9.86it/s]"
     ]
    },
    {
     "name": "stdout",
     "output_type": "stream",
     "text": [
      "63624\n",
      "63580\n"
     ]
    },
    {
     "name": "stderr",
     "output_type": "stream",
     "text": [
      "1441it [02:29,  9.88it/s]"
     ]
    },
    {
     "name": "stdout",
     "output_type": "stream",
     "text": [
      "61974\n"
     ]
    },
    {
     "name": "stderr",
     "output_type": "stream",
     "text": [
      "1457it [02:30,  9.86it/s]"
     ]
    },
    {
     "name": "stdout",
     "output_type": "stream",
     "text": [
      "60720\n"
     ]
    },
    {
     "name": "stderr",
     "output_type": "stream",
     "text": [
      "1466it [02:31,  9.80it/s]"
     ]
    },
    {
     "name": "stdout",
     "output_type": "stream",
     "text": [
      "59884\n"
     ]
    },
    {
     "name": "stderr",
     "output_type": "stream",
     "text": [
      "1481it [02:33,  9.74it/s]"
     ]
    },
    {
     "name": "stdout",
     "output_type": "stream",
     "text": [
      "59136\n"
     ]
    },
    {
     "name": "stderr",
     "output_type": "stream",
     "text": [
      "1486it [02:33,  9.85it/s]"
     ]
    },
    {
     "name": "stdout",
     "output_type": "stream",
     "text": [
      "58652\n"
     ]
    },
    {
     "name": "stderr",
     "output_type": "stream",
     "text": [
      "1488it [02:34,  9.87it/s]"
     ]
    },
    {
     "name": "stdout",
     "output_type": "stream",
     "text": [
      "58520\n"
     ]
    },
    {
     "name": "stderr",
     "output_type": "stream",
     "text": [
      "1567it [02:42,  9.77it/s]"
     ]
    },
    {
     "name": "stdout",
     "output_type": "stream",
     "text": [
      "55264\n"
     ]
    },
    {
     "name": "stderr",
     "output_type": "stream",
     "text": [
      "1593it [02:44,  9.86it/s]"
     ]
    },
    {
     "name": "stdout",
     "output_type": "stream",
     "text": [
      "53614\n"
     ]
    },
    {
     "name": "stderr",
     "output_type": "stream",
     "text": [
      "1609it [02:46,  9.89it/s]"
     ]
    },
    {
     "name": "stdout",
     "output_type": "stream",
     "text": [
      "51700\n"
     ]
    },
    {
     "name": "stderr",
     "output_type": "stream",
     "text": [
      "1624it [02:48,  9.72it/s]"
     ]
    },
    {
     "name": "stdout",
     "output_type": "stream",
     "text": [
      "50732\n"
     ]
    },
    {
     "name": "stderr",
     "output_type": "stream",
     "text": [
      "1644it [02:50,  9.72it/s]"
     ]
    },
    {
     "name": "stdout",
     "output_type": "stream",
     "text": [
      "49742\n"
     ]
    },
    {
     "name": "stderr",
     "output_type": "stream",
     "text": [
      "1648it [02:50,  9.73it/s]"
     ]
    },
    {
     "name": "stdout",
     "output_type": "stream",
     "text": [
      "49632\n"
     ]
    },
    {
     "name": "stderr",
     "output_type": "stream",
     "text": [
      "1650it [02:50,  9.65it/s]"
     ]
    },
    {
     "name": "stdout",
     "output_type": "stream",
     "text": [
      "49456\n"
     ]
    },
    {
     "name": "stderr",
     "output_type": "stream",
     "text": [
      "1689it [02:54,  9.67it/s]"
     ]
    },
    {
     "name": "stdout",
     "output_type": "stream",
     "text": [
      "47476\n"
     ]
    },
    {
     "name": "stderr",
     "output_type": "stream",
     "text": [
      "1783it [03:04,  9.63it/s]"
     ]
    },
    {
     "name": "stdout",
     "output_type": "stream",
     "text": [
      "43032\n"
     ]
    },
    {
     "name": "stderr",
     "output_type": "stream",
     "text": [
      "1840it [03:10,  9.65it/s]"
     ]
    },
    {
     "name": "stdout",
     "output_type": "stream",
     "text": [
      "40502\n"
     ]
    },
    {
     "name": "stderr",
     "output_type": "stream",
     "text": [
      "1921it [03:18,  9.75it/s]"
     ]
    },
    {
     "name": "stdout",
     "output_type": "stream",
     "text": [
      "36630\n"
     ]
    },
    {
     "name": "stderr",
     "output_type": "stream",
     "text": [
      "1926it [03:19,  9.80it/s]"
     ]
    },
    {
     "name": "stdout",
     "output_type": "stream",
     "text": [
      "36432\n"
     ]
    },
    {
     "name": "stderr",
     "output_type": "stream",
     "text": [
      "1951it [03:21,  9.70it/s]"
     ]
    },
    {
     "name": "stdout",
     "output_type": "stream",
     "text": [
      "35530\n"
     ]
    },
    {
     "name": "stderr",
     "output_type": "stream",
     "text": [
      "2005it [03:27,  6.61it/s]"
     ]
    },
    {
     "name": "stdout",
     "output_type": "stream",
     "text": [
      "33880\n"
     ]
    },
    {
     "name": "stderr",
     "output_type": "stream",
     "text": [
      "2056it [03:33,  9.66it/s]"
     ]
    },
    {
     "name": "stdout",
     "output_type": "stream",
     "text": [
      "31856\n"
     ]
    },
    {
     "name": "stderr",
     "output_type": "stream",
     "text": [
      "2074it [03:35,  9.65it/s]"
     ]
    },
    {
     "name": "stdout",
     "output_type": "stream",
     "text": [
      "31174\n",
      "31108\n"
     ]
    },
    {
     "name": "stderr",
     "output_type": "stream",
     "text": [
      "2080it [03:35,  9.57it/s]"
     ]
    },
    {
     "name": "stdout",
     "output_type": "stream",
     "text": [
      "30910\n"
     ]
    },
    {
     "name": "stderr",
     "output_type": "stream",
     "text": [
      "2083it [03:35,  9.64it/s]"
     ]
    },
    {
     "name": "stdout",
     "output_type": "stream",
     "text": [
      "30800\n"
     ]
    },
    {
     "name": "stderr",
     "output_type": "stream",
     "text": [
      "2094it [03:37,  9.63it/s]"
     ]
    },
    {
     "name": "stdout",
     "output_type": "stream",
     "text": [
      "30492\n"
     ]
    },
    {
     "name": "stderr",
     "output_type": "stream",
     "text": [
      "2106it [03:38,  9.78it/s]"
     ]
    },
    {
     "name": "stdout",
     "output_type": "stream",
     "text": [
      "30272\n"
     ]
    },
    {
     "name": "stderr",
     "output_type": "stream",
     "text": [
      "2140it [03:41,  9.73it/s]"
     ]
    },
    {
     "name": "stdout",
     "output_type": "stream",
     "text": [
      "29414\n"
     ]
    },
    {
     "name": "stderr",
     "output_type": "stream",
     "text": [
      "2198it [03:47,  9.64it/s]"
     ]
    },
    {
     "name": "stdout",
     "output_type": "stream",
     "text": [
      "27588\n"
     ]
    },
    {
     "name": "stderr",
     "output_type": "stream",
     "text": [
      "2219it [03:49,  9.67it/s]"
     ]
    },
    {
     "name": "stdout",
     "output_type": "stream",
     "text": [
      "27016\n"
     ]
    },
    {
     "name": "stderr",
     "output_type": "stream",
     "text": [
      "2223it [03:50,  9.75it/s]"
     ]
    },
    {
     "name": "stdout",
     "output_type": "stream",
     "text": [
      "26950\n"
     ]
    },
    {
     "name": "stderr",
     "output_type": "stream",
     "text": [
      "2299it [03:58,  9.73it/s]"
     ]
    },
    {
     "name": "stdout",
     "output_type": "stream",
     "text": [
      "25080\n"
     ]
    },
    {
     "name": "stderr",
     "output_type": "stream",
     "text": [
      "2316it [04:00,  9.70it/s]"
     ]
    },
    {
     "name": "stdout",
     "output_type": "stream",
     "text": [
      "24860\n",
      "24794\n"
     ]
    },
    {
     "name": "stderr",
     "output_type": "stream",
     "text": [
      "2358it [04:04,  9.72it/s]"
     ]
    },
    {
     "name": "stdout",
     "output_type": "stream",
     "text": [
      "24024\n"
     ]
    },
    {
     "name": "stderr",
     "output_type": "stream",
     "text": [
      "2441it [04:12,  9.63it/s]"
     ]
    },
    {
     "name": "stdout",
     "output_type": "stream",
     "text": [
      "22396\n"
     ]
    },
    {
     "name": "stderr",
     "output_type": "stream",
     "text": [
      "2451it [04:13,  9.79it/s]"
     ]
    },
    {
     "name": "stdout",
     "output_type": "stream",
     "text": [
      "22198\n"
     ]
    },
    {
     "name": "stderr",
     "output_type": "stream",
     "text": [
      "2455it [04:14,  9.67it/s]"
     ]
    },
    {
     "name": "stdout",
     "output_type": "stream",
     "text": [
      "22154\n"
     ]
    },
    {
     "name": "stderr",
     "output_type": "stream",
     "text": [
      "2464it [04:15,  9.74it/s]"
     ]
    },
    {
     "name": "stdout",
     "output_type": "stream",
     "text": [
      "21934\n"
     ]
    },
    {
     "name": "stderr",
     "output_type": "stream",
     "text": [
      "2482it [04:17,  9.72it/s]"
     ]
    },
    {
     "name": "stdout",
     "output_type": "stream",
     "text": [
      "21626\n"
     ]
    },
    {
     "name": "stderr",
     "output_type": "stream",
     "text": [
      "2495it [04:18,  9.70it/s]"
     ]
    },
    {
     "name": "stdout",
     "output_type": "stream",
     "text": [
      "21406\n"
     ]
    },
    {
     "name": "stderr",
     "output_type": "stream",
     "text": [
      "2498it [04:18,  9.71it/s]"
     ]
    },
    {
     "name": "stdout",
     "output_type": "stream",
     "text": [
      "21340\n"
     ]
    },
    {
     "name": "stderr",
     "output_type": "stream",
     "text": [
      "2532it [04:22,  9.68it/s]"
     ]
    },
    {
     "name": "stdout",
     "output_type": "stream",
     "text": [
      "20834\n"
     ]
    },
    {
     "name": "stderr",
     "output_type": "stream",
     "text": [
      "2551it [04:24,  9.61it/s]"
     ]
    },
    {
     "name": "stdout",
     "output_type": "stream",
     "text": [
      "20394\n"
     ]
    },
    {
     "name": "stderr",
     "output_type": "stream",
     "text": [
      "2562it [04:25,  9.70it/s]"
     ]
    },
    {
     "name": "stdout",
     "output_type": "stream",
     "text": [
      "20196\n"
     ]
    },
    {
     "name": "stderr",
     "output_type": "stream",
     "text": [
      "2627it [04:32,  9.73it/s]"
     ]
    },
    {
     "name": "stdout",
     "output_type": "stream",
     "text": [
      "19338\n"
     ]
    },
    {
     "name": "stderr",
     "output_type": "stream",
     "text": [
      "2650it [04:34,  9.71it/s]"
     ]
    },
    {
     "name": "stdout",
     "output_type": "stream",
     "text": [
      "19030\n"
     ]
    },
    {
     "name": "stderr",
     "output_type": "stream",
     "text": [
      "2667it [04:36,  9.65it/s]"
     ]
    },
    {
     "name": "stdout",
     "output_type": "stream",
     "text": [
      "18700\n"
     ]
    },
    {
     "name": "stderr",
     "output_type": "stream",
     "text": [
      "2702it [04:39,  9.73it/s]"
     ]
    },
    {
     "name": "stdout",
     "output_type": "stream",
     "text": [
      "18128\n"
     ]
    },
    {
     "name": "stderr",
     "output_type": "stream",
     "text": [
      "2724it [04:42,  9.83it/s]"
     ]
    },
    {
     "name": "stdout",
     "output_type": "stream",
     "text": [
      "17974\n"
     ]
    },
    {
     "name": "stderr",
     "output_type": "stream",
     "text": [
      "2752it [04:44,  9.55it/s]"
     ]
    },
    {
     "name": "stdout",
     "output_type": "stream",
     "text": [
      "17644\n"
     ]
    },
    {
     "name": "stderr",
     "output_type": "stream",
     "text": [
      "2766it [04:46,  9.68it/s]"
     ]
    },
    {
     "name": "stdout",
     "output_type": "stream",
     "text": [
      "17468\n"
     ]
    },
    {
     "name": "stderr",
     "output_type": "stream",
     "text": [
      "2796it [04:49,  9.73it/s]"
     ]
    },
    {
     "name": "stdout",
     "output_type": "stream",
     "text": [
      "16984\n"
     ]
    },
    {
     "name": "stderr",
     "output_type": "stream",
     "text": [
      "2831it [04:53,  9.74it/s]"
     ]
    },
    {
     "name": "stdout",
     "output_type": "stream",
     "text": [
      "16522\n"
     ]
    },
    {
     "name": "stderr",
     "output_type": "stream",
     "text": [
      "2857it [04:55,  9.83it/s]"
     ]
    },
    {
     "name": "stdout",
     "output_type": "stream",
     "text": [
      "16214\n"
     ]
    },
    {
     "name": "stderr",
     "output_type": "stream",
     "text": [
      "2867it [04:56,  9.64it/s]"
     ]
    },
    {
     "name": "stdout",
     "output_type": "stream",
     "text": [
      "16038\n"
     ]
    },
    {
     "name": "stderr",
     "output_type": "stream",
     "text": [
      "2881it [04:58,  9.67it/s]"
     ]
    },
    {
     "name": "stdout",
     "output_type": "stream",
     "text": [
      "15862\n",
      "15862\n"
     ]
    },
    {
     "name": "stderr",
     "output_type": "stream",
     "text": [
      "2941it [05:04,  9.75it/s]"
     ]
    },
    {
     "name": "stdout",
     "output_type": "stream",
     "text": [
      "15312\n",
      "15312\n"
     ]
    },
    {
     "name": "stderr",
     "output_type": "stream",
     "text": [
      "2943it [05:04,  9.71it/s]"
     ]
    },
    {
     "name": "stdout",
     "output_type": "stream",
     "text": [
      "15312\n"
     ]
    },
    {
     "name": "stderr",
     "output_type": "stream",
     "text": [
      "2956it [05:05,  9.65it/s]"
     ]
    },
    {
     "name": "stdout",
     "output_type": "stream",
     "text": [
      "15136\n"
     ]
    },
    {
     "name": "stderr",
     "output_type": "stream",
     "text": [
      "2969it [05:07,  9.70it/s]"
     ]
    },
    {
     "name": "stdout",
     "output_type": "stream",
     "text": [
      "15070\n",
      "15070\n"
     ]
    },
    {
     "name": "stderr",
     "output_type": "stream",
     "text": [
      "2989it [05:09,  9.71it/s]"
     ]
    },
    {
     "name": "stdout",
     "output_type": "stream",
     "text": [
      "14850\n"
     ]
    },
    {
     "name": "stderr",
     "output_type": "stream",
     "text": [
      "3005it [05:11,  7.00it/s]"
     ]
    },
    {
     "name": "stdout",
     "output_type": "stream",
     "text": [
      "14630\n"
     ]
    },
    {
     "name": "stderr",
     "output_type": "stream",
     "text": [
      "3017it [05:12,  9.64it/s]"
     ]
    },
    {
     "name": "stdout",
     "output_type": "stream",
     "text": [
      "14542\n"
     ]
    },
    {
     "name": "stderr",
     "output_type": "stream",
     "text": [
      "3025it [05:13,  9.65it/s]"
     ]
    },
    {
     "name": "stdout",
     "output_type": "stream",
     "text": [
      "14410\n"
     ]
    },
    {
     "name": "stderr",
     "output_type": "stream",
     "text": [
      "3033it [05:14,  9.69it/s]"
     ]
    },
    {
     "name": "stdout",
     "output_type": "stream",
     "text": [
      "14344\n"
     ]
    },
    {
     "name": "stderr",
     "output_type": "stream",
     "text": [
      "3049it [05:16,  9.61it/s]"
     ]
    },
    {
     "name": "stdout",
     "output_type": "stream",
     "text": [
      "14168\n"
     ]
    },
    {
     "name": "stderr",
     "output_type": "stream",
     "text": [
      "3125it [05:23,  9.60it/s]"
     ]
    },
    {
     "name": "stdout",
     "output_type": "stream",
     "text": [
      "13552\n"
     ]
    },
    {
     "name": "stderr",
     "output_type": "stream",
     "text": [
      "3132it [05:24,  9.75it/s]"
     ]
    },
    {
     "name": "stdout",
     "output_type": "stream",
     "text": [
      "13486\n"
     ]
    },
    {
     "name": "stderr",
     "output_type": "stream",
     "text": [
      "3153it [05:26,  9.78it/s]"
     ]
    },
    {
     "name": "stdout",
     "output_type": "stream",
     "text": [
      "13354\n"
     ]
    },
    {
     "name": "stderr",
     "output_type": "stream",
     "text": [
      "3156it [05:27,  9.73it/s]"
     ]
    },
    {
     "name": "stdout",
     "output_type": "stream",
     "text": [
      "13332\n"
     ]
    },
    {
     "name": "stderr",
     "output_type": "stream",
     "text": [
      "3157it [05:27,  9.78it/s]"
     ]
    },
    {
     "name": "stdout",
     "output_type": "stream",
     "text": [
      "13310\n"
     ]
    },
    {
     "name": "stderr",
     "output_type": "stream",
     "text": [
      "3177it [05:29,  9.77it/s]"
     ]
    },
    {
     "name": "stdout",
     "output_type": "stream",
     "text": [
      "13134\n",
      "13134\n"
     ]
    },
    {
     "name": "stderr",
     "output_type": "stream",
     "text": [
      "3199it [05:31,  9.75it/s]"
     ]
    },
    {
     "name": "stdout",
     "output_type": "stream",
     "text": [
      "12958\n"
     ]
    },
    {
     "name": "stderr",
     "output_type": "stream",
     "text": [
      "3206it [05:32,  9.70it/s]"
     ]
    },
    {
     "name": "stdout",
     "output_type": "stream",
     "text": [
      "12892\n",
      "12892\n"
     ]
    },
    {
     "name": "stderr",
     "output_type": "stream",
     "text": [
      "3235it [05:35,  9.71it/s]"
     ]
    },
    {
     "name": "stdout",
     "output_type": "stream",
     "text": [
      "12650\n"
     ]
    },
    {
     "name": "stderr",
     "output_type": "stream",
     "text": [
      "3241it [05:35,  9.62it/s]"
     ]
    },
    {
     "name": "stdout",
     "output_type": "stream",
     "text": [
      "12628\n"
     ]
    },
    {
     "name": "stderr",
     "output_type": "stream",
     "text": [
      "3291it [05:41,  9.66it/s]"
     ]
    },
    {
     "name": "stdout",
     "output_type": "stream",
     "text": [
      "12188\n"
     ]
    },
    {
     "name": "stderr",
     "output_type": "stream",
     "text": [
      "3302it [05:42,  9.68it/s]"
     ]
    },
    {
     "name": "stdout",
     "output_type": "stream",
     "text": [
      "12122\n"
     ]
    },
    {
     "name": "stderr",
     "output_type": "stream",
     "text": [
      "3314it [05:43,  9.66it/s]"
     ]
    },
    {
     "name": "stdout",
     "output_type": "stream",
     "text": [
      "11990\n"
     ]
    },
    {
     "name": "stderr",
     "output_type": "stream",
     "text": [
      "3375it [05:49,  9.70it/s]"
     ]
    },
    {
     "name": "stdout",
     "output_type": "stream",
     "text": [
      "11462\n"
     ]
    },
    {
     "name": "stderr",
     "output_type": "stream",
     "text": [
      "3408it [05:53,  9.71it/s]"
     ]
    },
    {
     "name": "stdout",
     "output_type": "stream",
     "text": [
      "11242\n"
     ]
    },
    {
     "name": "stderr",
     "output_type": "stream",
     "text": [
      "3434it [05:55,  9.73it/s]"
     ]
    },
    {
     "name": "stdout",
     "output_type": "stream",
     "text": [
      "11044\n"
     ]
    },
    {
     "name": "stderr",
     "output_type": "stream",
     "text": [
      "3457it [05:58,  9.74it/s]"
     ]
    },
    {
     "name": "stdout",
     "output_type": "stream",
     "text": [
      "10890\n"
     ]
    },
    {
     "name": "stderr",
     "output_type": "stream",
     "text": [
      "3465it [05:58,  9.63it/s]"
     ]
    },
    {
     "name": "stdout",
     "output_type": "stream",
     "text": [
      "10824\n"
     ]
    },
    {
     "name": "stderr",
     "output_type": "stream",
     "text": [
      "3470it [05:59,  9.61it/s]"
     ]
    },
    {
     "name": "stdout",
     "output_type": "stream",
     "text": [
      "10802\n"
     ]
    },
    {
     "name": "stderr",
     "output_type": "stream",
     "text": [
      "3506it [06:03,  9.74it/s]"
     ]
    },
    {
     "name": "stdout",
     "output_type": "stream",
     "text": [
      "10582\n"
     ]
    },
    {
     "name": "stderr",
     "output_type": "stream",
     "text": [
      "3522it [06:04,  9.59it/s]"
     ]
    },
    {
     "name": "stdout",
     "output_type": "stream",
     "text": [
      "10494\n"
     ]
    },
    {
     "name": "stderr",
     "output_type": "stream",
     "text": [
      "3590it [06:11,  9.63it/s]"
     ]
    },
    {
     "name": "stdout",
     "output_type": "stream",
     "text": [
      "10230\n"
     ]
    },
    {
     "name": "stderr",
     "output_type": "stream",
     "text": [
      "3606it [06:13,  9.70it/s]"
     ]
    },
    {
     "name": "stdout",
     "output_type": "stream",
     "text": [
      "10164\n",
      "10164\n"
     ]
    },
    {
     "name": "stderr",
     "output_type": "stream",
     "text": [
      "3608it [06:13,  9.65it/s]"
     ]
    },
    {
     "name": "stdout",
     "output_type": "stream",
     "text": [
      "10164\n"
     ]
    },
    {
     "name": "stderr",
     "output_type": "stream",
     "text": [
      "3620it [06:14,  9.59it/s]"
     ]
    },
    {
     "name": "stdout",
     "output_type": "stream",
     "text": [
      "10098\n"
     ]
    },
    {
     "name": "stderr",
     "output_type": "stream",
     "text": [
      "3704it [06:23,  9.73it/s]"
     ]
    },
    {
     "name": "stdout",
     "output_type": "stream",
     "text": [
      "9636\n"
     ]
    },
    {
     "name": "stderr",
     "output_type": "stream",
     "text": [
      "3763it [06:29,  9.68it/s]"
     ]
    },
    {
     "name": "stdout",
     "output_type": "stream",
     "text": [
      "9372\n"
     ]
    },
    {
     "name": "stderr",
     "output_type": "stream",
     "text": [
      "3780it [06:31,  9.81it/s]"
     ]
    },
    {
     "name": "stdout",
     "output_type": "stream",
     "text": [
      "9284\n"
     ]
    },
    {
     "name": "stderr",
     "output_type": "stream",
     "text": [
      "3785it [06:31,  9.77it/s]"
     ]
    },
    {
     "name": "stdout",
     "output_type": "stream",
     "text": [
      "9262\n"
     ]
    },
    {
     "name": "stderr",
     "output_type": "stream",
     "text": [
      "3836it [06:37,  9.73it/s]"
     ]
    },
    {
     "name": "stdout",
     "output_type": "stream",
     "text": [
      "9020\n"
     ]
    },
    {
     "name": "stderr",
     "output_type": "stream",
     "text": [
      "3850it [06:38,  9.68it/s]"
     ]
    },
    {
     "name": "stdout",
     "output_type": "stream",
     "text": [
      "8976\n"
     ]
    },
    {
     "name": "stderr",
     "output_type": "stream",
     "text": [
      "3878it [06:41,  9.70it/s]"
     ]
    },
    {
     "name": "stdout",
     "output_type": "stream",
     "text": [
      "8844\n"
     ]
    },
    {
     "name": "stderr",
     "output_type": "stream",
     "text": [
      "3886it [06:42,  9.78it/s]"
     ]
    },
    {
     "name": "stdout",
     "output_type": "stream",
     "text": [
      "8800\n",
      "8800\n"
     ]
    },
    {
     "name": "stderr",
     "output_type": "stream",
     "text": [
      "3897it [06:43,  9.76it/s]"
     ]
    },
    {
     "name": "stdout",
     "output_type": "stream",
     "text": [
      "8734\n"
     ]
    },
    {
     "name": "stderr",
     "output_type": "stream",
     "text": [
      "3945it [06:48,  9.88it/s]"
     ]
    },
    {
     "name": "stdout",
     "output_type": "stream",
     "text": [
      "8514\n",
      "8514\n"
     ]
    },
    {
     "name": "stderr",
     "output_type": "stream",
     "text": [
      "3990it [06:53,  9.53it/s]"
     ]
    },
    {
     "name": "stdout",
     "output_type": "stream",
     "text": [
      "8316\n"
     ]
    },
    {
     "name": "stderr",
     "output_type": "stream",
     "text": [
      "4008it [06:55,  8.33it/s]"
     ]
    },
    {
     "name": "stdout",
     "output_type": "stream",
     "text": [
      "8250\n"
     ]
    },
    {
     "name": "stderr",
     "output_type": "stream",
     "text": [
      "4023it [06:57,  9.69it/s]"
     ]
    },
    {
     "name": "stdout",
     "output_type": "stream",
     "text": [
      "8184\n",
      "8184\n"
     ]
    },
    {
     "name": "stderr",
     "output_type": "stream",
     "text": [
      "4083it [07:03,  9.61it/s]"
     ]
    },
    {
     "name": "stdout",
     "output_type": "stream",
     "text": [
      "7964\n",
      "7964\n"
     ]
    },
    {
     "name": "stderr",
     "output_type": "stream",
     "text": [
      "4091it [07:04,  9.79it/s]"
     ]
    },
    {
     "name": "stdout",
     "output_type": "stream",
     "text": [
      "7942\n"
     ]
    },
    {
     "name": "stderr",
     "output_type": "stream",
     "text": [
      "4123it [07:07,  9.76it/s]"
     ]
    },
    {
     "name": "stdout",
     "output_type": "stream",
     "text": [
      "7832\n"
     ]
    },
    {
     "name": "stderr",
     "output_type": "stream",
     "text": [
      "4128it [07:07,  9.74it/s]"
     ]
    },
    {
     "name": "stdout",
     "output_type": "stream",
     "text": [
      "7810\n"
     ]
    },
    {
     "name": "stderr",
     "output_type": "stream",
     "text": [
      "4133it [07:08,  9.78it/s]"
     ]
    },
    {
     "name": "stdout",
     "output_type": "stream",
     "text": [
      "7788\n"
     ]
    },
    {
     "name": "stderr",
     "output_type": "stream",
     "text": [
      "4139it [07:09,  9.69it/s]"
     ]
    },
    {
     "name": "stdout",
     "output_type": "stream",
     "text": [
      "7766\n"
     ]
    },
    {
     "name": "stderr",
     "output_type": "stream",
     "text": [
      "4164it [07:11,  9.65it/s]"
     ]
    },
    {
     "name": "stdout",
     "output_type": "stream",
     "text": [
      "7678\n"
     ]
    },
    {
     "name": "stderr",
     "output_type": "stream",
     "text": [
      "4181it [07:13,  9.75it/s]"
     ]
    },
    {
     "name": "stdout",
     "output_type": "stream",
     "text": [
      "7634\n"
     ]
    },
    {
     "name": "stderr",
     "output_type": "stream",
     "text": [
      "4198it [07:15,  9.59it/s]"
     ]
    },
    {
     "name": "stdout",
     "output_type": "stream",
     "text": [
      "7590\n"
     ]
    },
    {
     "name": "stderr",
     "output_type": "stream",
     "text": [
      "4206it [07:15,  9.67it/s]"
     ]
    },
    {
     "name": "stdout",
     "output_type": "stream",
     "text": [
      "7568\n"
     ]
    },
    {
     "name": "stderr",
     "output_type": "stream",
     "text": [
      "4230it [07:18,  9.79it/s]"
     ]
    },
    {
     "name": "stdout",
     "output_type": "stream",
     "text": [
      "7480\n",
      "7480\n"
     ]
    },
    {
     "name": "stderr",
     "output_type": "stream",
     "text": [
      "4240it [07:19,  9.80it/s]"
     ]
    },
    {
     "name": "stdout",
     "output_type": "stream",
     "text": [
      "7436\n",
      "7436\n"
     ]
    },
    {
     "name": "stderr",
     "output_type": "stream",
     "text": [
      "4270it [07:22,  9.62it/s]"
     ]
    },
    {
     "name": "stdout",
     "output_type": "stream",
     "text": [
      "7326\n"
     ]
    },
    {
     "name": "stderr",
     "output_type": "stream",
     "text": [
      "4339it [07:29,  9.78it/s]"
     ]
    },
    {
     "name": "stdout",
     "output_type": "stream",
     "text": [
      "7084\n",
      "7084\n"
     ]
    },
    {
     "name": "stderr",
     "output_type": "stream",
     "text": [
      "4341it [07:29,  9.74it/s]"
     ]
    },
    {
     "name": "stdout",
     "output_type": "stream",
     "text": [
      "7084\n"
     ]
    },
    {
     "name": "stderr",
     "output_type": "stream",
     "text": [
      "4359it [07:31,  9.59it/s]"
     ]
    },
    {
     "name": "stdout",
     "output_type": "stream",
     "text": [
      "7040\n",
      "7040\n"
     ]
    },
    {
     "name": "stderr",
     "output_type": "stream",
     "text": [
      "4385it [07:34,  9.60it/s]"
     ]
    },
    {
     "name": "stdout",
     "output_type": "stream",
     "text": [
      "6974\n"
     ]
    },
    {
     "name": "stderr",
     "output_type": "stream",
     "text": [
      "4390it [07:34,  9.73it/s]"
     ]
    },
    {
     "name": "stdout",
     "output_type": "stream",
     "text": [
      "6952\n"
     ]
    },
    {
     "name": "stderr",
     "output_type": "stream",
     "text": [
      "4428it [07:38,  9.66it/s]"
     ]
    },
    {
     "name": "stdout",
     "output_type": "stream",
     "text": [
      "6864\n"
     ]
    },
    {
     "name": "stderr",
     "output_type": "stream",
     "text": [
      "4443it [07:40,  9.72it/s]"
     ]
    },
    {
     "name": "stdout",
     "output_type": "stream",
     "text": [
      "6820\n"
     ]
    },
    {
     "name": "stderr",
     "output_type": "stream",
     "text": [
      "4459it [07:42,  9.76it/s]"
     ]
    },
    {
     "name": "stdout",
     "output_type": "stream",
     "text": [
      "6798\n"
     ]
    },
    {
     "name": "stderr",
     "output_type": "stream",
     "text": [
      "4474it [07:43,  9.62it/s]"
     ]
    },
    {
     "name": "stdout",
     "output_type": "stream",
     "text": [
      "6754\n"
     ]
    },
    {
     "name": "stderr",
     "output_type": "stream",
     "text": [
      "4480it [07:44,  9.78it/s]"
     ]
    },
    {
     "name": "stdout",
     "output_type": "stream",
     "text": [
      "6732\n"
     ]
    },
    {
     "name": "stderr",
     "output_type": "stream",
     "text": [
      "4483it [07:44,  9.80it/s]"
     ]
    },
    {
     "name": "stdout",
     "output_type": "stream",
     "text": [
      "6710\n",
      "6710\n"
     ]
    },
    {
     "name": "stderr",
     "output_type": "stream",
     "text": [
      "4499it [07:46,  9.74it/s]"
     ]
    },
    {
     "name": "stdout",
     "output_type": "stream",
     "text": [
      "6666\n"
     ]
    },
    {
     "name": "stderr",
     "output_type": "stream",
     "text": [
      "4539it [07:50,  9.73it/s]"
     ]
    },
    {
     "name": "stdout",
     "output_type": "stream",
     "text": [
      "6556\n"
     ]
    },
    {
     "name": "stderr",
     "output_type": "stream",
     "text": [
      "4561it [07:52,  9.72it/s]"
     ]
    },
    {
     "name": "stdout",
     "output_type": "stream",
     "text": [
      "6468\n",
      "6468\n"
     ]
    },
    {
     "name": "stderr",
     "output_type": "stream",
     "text": [
      "4574it [07:53,  9.87it/s]"
     ]
    },
    {
     "name": "stdout",
     "output_type": "stream",
     "text": [
      "6424\n",
      "6424\n"
     ]
    },
    {
     "name": "stderr",
     "output_type": "stream",
     "text": [
      "4591it [07:55,  9.59it/s]"
     ]
    },
    {
     "name": "stdout",
     "output_type": "stream",
     "text": [
      "6380\n"
     ]
    },
    {
     "name": "stderr",
     "output_type": "stream",
     "text": [
      "4651it [08:01,  9.78it/s]"
     ]
    },
    {
     "name": "stdout",
     "output_type": "stream",
     "text": [
      "6248\n"
     ]
    },
    {
     "name": "stderr",
     "output_type": "stream",
     "text": [
      "4688it [08:05,  9.59it/s]"
     ]
    },
    {
     "name": "stdout",
     "output_type": "stream",
     "text": [
      "6160\n",
      "6160\n"
     ]
    },
    {
     "name": "stderr",
     "output_type": "stream",
     "text": [
      "4702it [08:07,  9.70it/s]"
     ]
    },
    {
     "name": "stdout",
     "output_type": "stream",
     "text": [
      "6138\n"
     ]
    },
    {
     "name": "stderr",
     "output_type": "stream",
     "text": [
      "4722it [08:09,  9.69it/s]"
     ]
    },
    {
     "name": "stdout",
     "output_type": "stream",
     "text": [
      "6072\n"
     ]
    },
    {
     "name": "stderr",
     "output_type": "stream",
     "text": [
      "4730it [08:09,  9.55it/s]"
     ]
    },
    {
     "name": "stdout",
     "output_type": "stream",
     "text": [
      "6050\n"
     ]
    },
    {
     "name": "stderr",
     "output_type": "stream",
     "text": [
      "4740it [08:11,  9.70it/s]"
     ]
    },
    {
     "name": "stdout",
     "output_type": "stream",
     "text": [
      "6028\n"
     ]
    },
    {
     "name": "stderr",
     "output_type": "stream",
     "text": [
      "4765it [08:13,  9.82it/s]"
     ]
    },
    {
     "name": "stdout",
     "output_type": "stream",
     "text": [
      "5962\n"
     ]
    },
    {
     "name": "stderr",
     "output_type": "stream",
     "text": [
      "4792it [08:16,  9.78it/s]"
     ]
    },
    {
     "name": "stdout",
     "output_type": "stream",
     "text": [
      "5874\n",
      "5874\n"
     ]
    },
    {
     "name": "stderr",
     "output_type": "stream",
     "text": [
      "4847it [08:21,  9.92it/s]"
     ]
    },
    {
     "name": "stdout",
     "output_type": "stream",
     "text": [
      "5786\n",
      "5786\n"
     ]
    },
    {
     "name": "stderr",
     "output_type": "stream",
     "text": [
      "4861it [08:23,  9.91it/s]"
     ]
    },
    {
     "name": "stdout",
     "output_type": "stream",
     "text": [
      "5764\n"
     ]
    },
    {
     "name": "stderr",
     "output_type": "stream",
     "text": [
      "4871it [08:24,  9.90it/s]"
     ]
    },
    {
     "name": "stdout",
     "output_type": "stream",
     "text": [
      "5742\n"
     ]
    },
    {
     "name": "stderr",
     "output_type": "stream",
     "text": [
      "4893it [08:26,  9.90it/s]"
     ]
    },
    {
     "name": "stdout",
     "output_type": "stream",
     "text": [
      "5698\n"
     ]
    },
    {
     "name": "stderr",
     "output_type": "stream",
     "text": [
      "4917it [08:29,  9.90it/s]"
     ]
    },
    {
     "name": "stdout",
     "output_type": "stream",
     "text": [
      "5654\n"
     ]
    },
    {
     "name": "stderr",
     "output_type": "stream",
     "text": [
      "4939it [08:31,  9.91it/s]"
     ]
    },
    {
     "name": "stdout",
     "output_type": "stream",
     "text": [
      "5610\n"
     ]
    },
    {
     "name": "stderr",
     "output_type": "stream",
     "text": [
      "4947it [08:32,  9.91it/s]"
     ]
    },
    {
     "name": "stdout",
     "output_type": "stream",
     "text": [
      "5588\n"
     ]
    },
    {
     "name": "stderr",
     "output_type": "stream",
     "text": [
      "4963it [08:33,  9.91it/s]"
     ]
    },
    {
     "name": "stdout",
     "output_type": "stream",
     "text": [
      "5566\n"
     ]
    },
    {
     "name": "stderr",
     "output_type": "stream",
     "text": [
      "4973it [08:34,  9.90it/s]"
     ]
    },
    {
     "name": "stdout",
     "output_type": "stream",
     "text": [
      "5544\n",
      "5544\n"
     ]
    },
    {
     "name": "stderr",
     "output_type": "stream",
     "text": [
      "4984it [08:35,  9.91it/s]"
     ]
    },
    {
     "name": "stdout",
     "output_type": "stream",
     "text": [
      "5522\n"
     ]
    },
    {
     "name": "stderr",
     "output_type": "stream",
     "text": [
      "5036it [08:41,  9.91it/s]"
     ]
    },
    {
     "name": "stdout",
     "output_type": "stream",
     "text": [
      "5434\n"
     ]
    },
    {
     "name": "stderr",
     "output_type": "stream",
     "text": [
      "5066it [08:44,  9.90it/s]"
     ]
    },
    {
     "name": "stdout",
     "output_type": "stream",
     "text": [
      "5412\n"
     ]
    },
    {
     "name": "stderr",
     "output_type": "stream",
     "text": [
      "5077it [08:45,  9.89it/s]"
     ]
    },
    {
     "name": "stdout",
     "output_type": "stream",
     "text": [
      "5390\n"
     ]
    },
    {
     "name": "stderr",
     "output_type": "stream",
     "text": [
      "5129it [08:50,  9.90it/s]"
     ]
    },
    {
     "name": "stdout",
     "output_type": "stream",
     "text": [
      "5324\n"
     ]
    },
    {
     "name": "stderr",
     "output_type": "stream",
     "text": [
      "5171it [08:55,  9.90it/s]"
     ]
    },
    {
     "name": "stdout",
     "output_type": "stream",
     "text": [
      "5258\n"
     ]
    },
    {
     "name": "stderr",
     "output_type": "stream",
     "text": [
      "5187it [08:56,  9.91it/s]"
     ]
    },
    {
     "name": "stdout",
     "output_type": "stream",
     "text": [
      "5236\n"
     ]
    },
    {
     "name": "stderr",
     "output_type": "stream",
     "text": [
      "5254it [09:03,  9.91it/s]"
     ]
    },
    {
     "name": "stdout",
     "output_type": "stream",
     "text": [
      "5126\n"
     ]
    },
    {
     "name": "stderr",
     "output_type": "stream",
     "text": [
      "5280it [09:06,  9.92it/s]"
     ]
    },
    {
     "name": "stdout",
     "output_type": "stream",
     "text": [
      "5082\n"
     ]
    },
    {
     "name": "stderr",
     "output_type": "stream",
     "text": [
      "5310it [09:09,  9.91it/s]"
     ]
    },
    {
     "name": "stdout",
     "output_type": "stream",
     "text": [
      "5038\n"
     ]
    },
    {
     "name": "stderr",
     "output_type": "stream",
     "text": [
      "5326it [09:10,  9.92it/s]"
     ]
    },
    {
     "name": "stdout",
     "output_type": "stream",
     "text": [
      "5016\n"
     ]
    },
    {
     "name": "stderr",
     "output_type": "stream",
     "text": [
      "5380it [09:16,  9.75it/s]"
     ]
    },
    {
     "name": "stdout",
     "output_type": "stream",
     "text": [
      "4950\n"
     ]
    },
    {
     "name": "stderr",
     "output_type": "stream",
     "text": [
      "5429it [09:21,  9.60it/s]"
     ]
    },
    {
     "name": "stdout",
     "output_type": "stream",
     "text": [
      "4884\n",
      "4884\n"
     ]
    },
    {
     "name": "stderr",
     "output_type": "stream",
     "text": [
      "5432it [09:21,  9.74it/s]"
     ]
    },
    {
     "name": "stdout",
     "output_type": "stream",
     "text": [
      "4884\n"
     ]
    },
    {
     "name": "stderr",
     "output_type": "stream",
     "text": [
      "5455it [09:24,  9.59it/s]"
     ]
    },
    {
     "name": "stdout",
     "output_type": "stream",
     "text": [
      "4862\n"
     ]
    },
    {
     "name": "stderr",
     "output_type": "stream",
     "text": [
      "5528it [09:31,  9.71it/s]"
     ]
    },
    {
     "name": "stdout",
     "output_type": "stream",
     "text": [
      "4774\n"
     ]
    },
    {
     "name": "stderr",
     "output_type": "stream",
     "text": [
      "5544it [09:33,  9.72it/s]"
     ]
    },
    {
     "name": "stdout",
     "output_type": "stream",
     "text": [
      "4752\n"
     ]
    },
    {
     "name": "stderr",
     "output_type": "stream",
     "text": [
      "5556it [09:34,  9.71it/s]"
     ]
    },
    {
     "name": "stdout",
     "output_type": "stream",
     "text": [
      "4730\n"
     ]
    },
    {
     "name": "stderr",
     "output_type": "stream",
     "text": [
      "5586it [09:37,  9.69it/s]"
     ]
    },
    {
     "name": "stdout",
     "output_type": "stream",
     "text": [
      "4686\n"
     ]
    },
    {
     "name": "stderr",
     "output_type": "stream",
     "text": [
      "5614it [09:40,  9.73it/s]"
     ]
    },
    {
     "name": "stdout",
     "output_type": "stream",
     "text": [
      "4642\n"
     ]
    },
    {
     "name": "stderr",
     "output_type": "stream",
     "text": [
      "5627it [09:41,  9.67it/s]"
     ]
    },
    {
     "name": "stdout",
     "output_type": "stream",
     "text": [
      "4620\n",
      "4620\n"
     ]
    },
    {
     "name": "stderr",
     "output_type": "stream",
     "text": [
      "5654it [09:44,  9.79it/s]"
     ]
    },
    {
     "name": "stdout",
     "output_type": "stream",
     "text": [
      "4576\n"
     ]
    },
    {
     "name": "stderr",
     "output_type": "stream",
     "text": [
      "5670it [09:46,  9.70it/s]"
     ]
    },
    {
     "name": "stdout",
     "output_type": "stream",
     "text": [
      "4554\n",
      "4554\n"
     ]
    },
    {
     "name": "stderr",
     "output_type": "stream",
     "text": [
      "5701it [09:49,  9.73it/s]"
     ]
    },
    {
     "name": "stdout",
     "output_type": "stream",
     "text": [
      "4510\n",
      "4510\n"
     ]
    },
    {
     "name": "stderr",
     "output_type": "stream",
     "text": [
      "5704it [09:49,  9.70it/s]"
     ]
    },
    {
     "name": "stdout",
     "output_type": "stream",
     "text": [
      "4510\n"
     ]
    },
    {
     "name": "stderr",
     "output_type": "stream",
     "text": [
      "5784it [09:58,  9.60it/s]"
     ]
    },
    {
     "name": "stdout",
     "output_type": "stream",
     "text": [
      "4422\n",
      "4422\n"
     ]
    },
    {
     "name": "stderr",
     "output_type": "stream",
     "text": [
      "5785it [09:58,  9.59it/s]"
     ]
    },
    {
     "name": "stdout",
     "output_type": "stream",
     "text": [
      "4422\n"
     ]
    },
    {
     "name": "stderr",
     "output_type": "stream",
     "text": [
      "5802it [09:59,  9.66it/s]"
     ]
    },
    {
     "name": "stdout",
     "output_type": "stream",
     "text": [
      "4400\n"
     ]
    },
    {
     "name": "stderr",
     "output_type": "stream",
     "text": [
      "5826it [10:02,  9.82it/s]"
     ]
    },
    {
     "name": "stdout",
     "output_type": "stream",
     "text": [
      "4378\n",
      "4378\n"
     ]
    },
    {
     "name": "stderr",
     "output_type": "stream",
     "text": [
      "5865it [10:06,  9.67it/s]"
     ]
    },
    {
     "name": "stdout",
     "output_type": "stream",
     "text": [
      "4356\n",
      "4356\n"
     ]
    },
    {
     "name": "stderr",
     "output_type": "stream",
     "text": [
      "5922it [10:12,  9.79it/s]"
     ]
    },
    {
     "name": "stdout",
     "output_type": "stream",
     "text": [
      "4334\n",
      "4334\n"
     ]
    },
    {
     "name": "stderr",
     "output_type": "stream",
     "text": [
      "5925it [10:12,  9.61it/s]"
     ]
    },
    {
     "name": "stdout",
     "output_type": "stream",
     "text": [
      "4334\n"
     ]
    },
    {
     "name": "stderr",
     "output_type": "stream",
     "text": [
      "5961it [10:16,  9.68it/s]"
     ]
    },
    {
     "name": "stdout",
     "output_type": "stream",
     "text": [
      "4312\n"
     ]
    },
    {
     "name": "stderr",
     "output_type": "stream",
     "text": [
      "5996it [10:19,  9.78it/s]"
     ]
    },
    {
     "name": "stdout",
     "output_type": "stream",
     "text": [
      "4290\n",
      "4290\n"
     ]
    },
    {
     "name": "stderr",
     "output_type": "stream",
     "text": [
      "6071it [10:28,  9.68it/s]"
     ]
    },
    {
     "name": "stdout",
     "output_type": "stream",
     "text": [
      "4268\n",
      "4268\n"
     ]
    },
    {
     "name": "stderr",
     "output_type": "stream",
     "text": [
      "6074it [10:28,  9.66it/s]"
     ]
    },
    {
     "name": "stdout",
     "output_type": "stream",
     "text": [
      "4268\n"
     ]
    },
    {
     "name": "stderr",
     "output_type": "stream",
     "text": [
      "6126it [10:33,  9.70it/s]"
     ]
    },
    {
     "name": "stdout",
     "output_type": "stream",
     "text": [
      "4224\n"
     ]
    },
    {
     "name": "stderr",
     "output_type": "stream",
     "text": [
      "6170it [10:38,  9.74it/s]"
     ]
    },
    {
     "name": "stdout",
     "output_type": "stream",
     "text": [
      "4202\n",
      "4202\n"
     ]
    },
    {
     "name": "stderr",
     "output_type": "stream",
     "text": [
      "6172it [10:38,  9.74it/s]"
     ]
    },
    {
     "name": "stdout",
     "output_type": "stream",
     "text": [
      "4202\n"
     ]
    },
    {
     "name": "stderr",
     "output_type": "stream",
     "text": [
      "6215it [10:43,  9.69it/s]"
     ]
    },
    {
     "name": "stdout",
     "output_type": "stream",
     "text": [
      "4180\n"
     ]
    },
    {
     "name": "stderr",
     "output_type": "stream",
     "text": [
      "6229it [10:44,  9.66it/s]"
     ]
    },
    {
     "name": "stdout",
     "output_type": "stream",
     "text": [
      "4158\n",
      "4158\n"
     ]
    },
    {
     "name": "stderr",
     "output_type": "stream",
     "text": [
      "6232it [10:44,  9.60it/s]"
     ]
    },
    {
     "name": "stdout",
     "output_type": "stream",
     "text": [
      "4158\n"
     ]
    },
    {
     "name": "stderr",
     "output_type": "stream",
     "text": [
      "6257it [10:47,  9.73it/s]"
     ]
    },
    {
     "name": "stdout",
     "output_type": "stream",
     "text": [
      "4136\n",
      "4136\n"
     ]
    },
    {
     "name": "stderr",
     "output_type": "stream",
     "text": [
      "6259it [10:47,  9.69it/s]"
     ]
    },
    {
     "name": "stdout",
     "output_type": "stream",
     "text": [
      "4136\n",
      "4136\n"
     ]
    },
    {
     "name": "stderr",
     "output_type": "stream",
     "text": [
      "6277it [10:49,  9.70it/s]"
     ]
    },
    {
     "name": "stdout",
     "output_type": "stream",
     "text": [
      "4114\n"
     ]
    },
    {
     "name": "stderr",
     "output_type": "stream",
     "text": [
      "6309it [10:52,  9.69it/s]"
     ]
    },
    {
     "name": "stdout",
     "output_type": "stream",
     "text": [
      "4070\n",
      "4070\n"
     ]
    },
    {
     "name": "stderr",
     "output_type": "stream",
     "text": [
      "6321it [10:53,  9.69it/s]"
     ]
    },
    {
     "name": "stdout",
     "output_type": "stream",
     "text": [
      "4048\n",
      "4048\n"
     ]
    },
    {
     "name": "stderr",
     "output_type": "stream",
     "text": [
      "6324it [10:54,  9.74it/s]"
     ]
    },
    {
     "name": "stdout",
     "output_type": "stream",
     "text": [
      "4048\n"
     ]
    },
    {
     "name": "stderr",
     "output_type": "stream",
     "text": [
      "6396it [11:01,  9.65it/s]"
     ]
    },
    {
     "name": "stdout",
     "output_type": "stream",
     "text": [
      "3938\n"
     ]
    },
    {
     "name": "stderr",
     "output_type": "stream",
     "text": [
      "6419it [11:04,  9.70it/s]"
     ]
    },
    {
     "name": "stdout",
     "output_type": "stream",
     "text": [
      "3916\n",
      "3916\n"
     ]
    },
    {
     "name": "stderr",
     "output_type": "stream",
     "text": [
      "6449it [11:07,  9.60it/s]"
     ]
    },
    {
     "name": "stdout",
     "output_type": "stream",
     "text": [
      "3872\n",
      "3872\n"
     ]
    },
    {
     "name": "stderr",
     "output_type": "stream",
     "text": [
      "6452it [11:07,  9.76it/s]"
     ]
    },
    {
     "name": "stdout",
     "output_type": "stream",
     "text": [
      "3872\n"
     ]
    },
    {
     "name": "stderr",
     "output_type": "stream",
     "text": [
      "6506it [11:12,  9.79it/s]"
     ]
    },
    {
     "name": "stdout",
     "output_type": "stream",
     "text": [
      "3806\n"
     ]
    },
    {
     "name": "stderr",
     "output_type": "stream",
     "text": [
      "6528it [11:15,  9.62it/s]"
     ]
    },
    {
     "name": "stdout",
     "output_type": "stream",
     "text": [
      "3784\n"
     ]
    },
    {
     "name": "stderr",
     "output_type": "stream",
     "text": [
      "6557it [11:18,  9.75it/s]"
     ]
    },
    {
     "name": "stdout",
     "output_type": "stream",
     "text": [
      "3762\n"
     ]
    },
    {
     "name": "stderr",
     "output_type": "stream",
     "text": [
      "6609it [11:23,  9.74it/s]"
     ]
    },
    {
     "name": "stdout",
     "output_type": "stream",
     "text": [
      "3740\n",
      "3740\n"
     ]
    },
    {
     "name": "stderr",
     "output_type": "stream",
     "text": [
      "6612it [11:23,  9.67it/s]"
     ]
    },
    {
     "name": "stdout",
     "output_type": "stream",
     "text": [
      "3740\n",
      "3740\n"
     ]
    },
    {
     "name": "stderr",
     "output_type": "stream",
     "text": [
      "6673it [11:30,  9.63it/s]"
     ]
    },
    {
     "name": "stdout",
     "output_type": "stream",
     "text": [
      "3718\n",
      "3718\n"
     ]
    },
    {
     "name": "stderr",
     "output_type": "stream",
     "text": [
      "6676it [11:30,  9.66it/s]"
     ]
    },
    {
     "name": "stdout",
     "output_type": "stream",
     "text": [
      "3718\n"
     ]
    },
    {
     "name": "stderr",
     "output_type": "stream",
     "text": [
      "6702it [11:33,  9.57it/s]"
     ]
    },
    {
     "name": "stdout",
     "output_type": "stream",
     "text": [
      "3696\n"
     ]
    },
    {
     "name": "stderr",
     "output_type": "stream",
     "text": [
      "6726it [11:35,  9.72it/s]"
     ]
    },
    {
     "name": "stdout",
     "output_type": "stream",
     "text": [
      "3674\n",
      "3674\n"
     ]
    },
    {
     "name": "stderr",
     "output_type": "stream",
     "text": [
      "6772it [11:40,  9.76it/s]"
     ]
    },
    {
     "name": "stdout",
     "output_type": "stream",
     "text": [
      "3630\n",
      "3630\n"
     ]
    },
    {
     "name": "stderr",
     "output_type": "stream",
     "text": [
      "6794it [11:42,  9.64it/s]"
     ]
    },
    {
     "name": "stdout",
     "output_type": "stream",
     "text": [
      "3608\n",
      "3608\n"
     ]
    },
    {
     "name": "stderr",
     "output_type": "stream",
     "text": [
      "6815it [11:44,  9.69it/s]"
     ]
    },
    {
     "name": "stdout",
     "output_type": "stream",
     "text": [
      "3586\n",
      "3586\n"
     ]
    },
    {
     "name": "stderr",
     "output_type": "stream",
     "text": [
      "6816it [11:44,  9.67it/s]"
     ]
    },
    {
     "name": "stdout",
     "output_type": "stream",
     "text": [
      "3586\n"
     ]
    },
    {
     "name": "stderr",
     "output_type": "stream",
     "text": [
      "6843it [11:47,  9.69it/s]"
     ]
    },
    {
     "name": "stdout",
     "output_type": "stream",
     "text": [
      "3564\n"
     ]
    },
    {
     "name": "stderr",
     "output_type": "stream",
     "text": [
      "6867it [11:50,  9.74it/s]"
     ]
    },
    {
     "name": "stdout",
     "output_type": "stream",
     "text": [
      "3542\n"
     ]
    },
    {
     "name": "stderr",
     "output_type": "stream",
     "text": [
      "6893it [11:52,  9.76it/s]"
     ]
    },
    {
     "name": "stdout",
     "output_type": "stream",
     "text": [
      "3520\n",
      "3520\n"
     ]
    },
    {
     "name": "stderr",
     "output_type": "stream",
     "text": [
      "6914it [11:55,  9.75it/s]"
     ]
    },
    {
     "name": "stdout",
     "output_type": "stream",
     "text": [
      "3498\n"
     ]
    },
    {
     "name": "stderr",
     "output_type": "stream",
     "text": [
      "6937it [11:57,  9.79it/s]"
     ]
    },
    {
     "name": "stdout",
     "output_type": "stream",
     "text": [
      "3476\n",
      "3476\n"
     ]
    },
    {
     "name": "stderr",
     "output_type": "stream",
     "text": [
      "6955it [11:59,  9.77it/s]"
     ]
    },
    {
     "name": "stdout",
     "output_type": "stream",
     "text": [
      "3454\n",
      "3454\n"
     ]
    },
    {
     "name": "stderr",
     "output_type": "stream",
     "text": [
      "6974it [12:01,  9.63it/s]"
     ]
    },
    {
     "name": "stdout",
     "output_type": "stream",
     "text": [
      "3432\n"
     ]
    },
    {
     "name": "stderr",
     "output_type": "stream",
     "text": [
      "6997it [12:03,  9.70it/s]"
     ]
    },
    {
     "name": "stdout",
     "output_type": "stream",
     "text": [
      "3410\n"
     ]
    },
    {
     "name": "stderr",
     "output_type": "stream",
     "text": [
      "7020it [12:06,  9.77it/s]"
     ]
    },
    {
     "name": "stdout",
     "output_type": "stream",
     "text": [
      "3388\n"
     ]
    },
    {
     "name": "stderr",
     "output_type": "stream",
     "text": [
      "7041it [12:08,  9.70it/s]"
     ]
    },
    {
     "name": "stdout",
     "output_type": "stream",
     "text": [
      "3366\n"
     ]
    },
    {
     "name": "stderr",
     "output_type": "stream",
     "text": [
      "7058it [12:10,  9.63it/s]"
     ]
    },
    {
     "name": "stdout",
     "output_type": "stream",
     "text": [
      "3344\n"
     ]
    },
    {
     "name": "stderr",
     "output_type": "stream",
     "text": [
      "7078it [12:12,  9.71it/s]"
     ]
    },
    {
     "name": "stdout",
     "output_type": "stream",
     "text": [
      "3322\n",
      "3322\n"
     ]
    },
    {
     "name": "stderr",
     "output_type": "stream",
     "text": [
      "7081it [12:12,  9.67it/s]"
     ]
    },
    {
     "name": "stdout",
     "output_type": "stream",
     "text": [
      "3322\n"
     ]
    },
    {
     "name": "stderr",
     "output_type": "stream",
     "text": [
      "7126it [12:17,  9.64it/s]"
     ]
    },
    {
     "name": "stdout",
     "output_type": "stream",
     "text": [
      "3278\n",
      "3278\n"
     ]
    },
    {
     "name": "stderr",
     "output_type": "stream",
     "text": [
      "7153it [12:20,  9.73it/s]"
     ]
    },
    {
     "name": "stdout",
     "output_type": "stream",
     "text": [
      "3256\n",
      "3256\n"
     ]
    },
    {
     "name": "stderr",
     "output_type": "stream",
     "text": [
      "7215it [12:26,  9.66it/s]"
     ]
    },
    {
     "name": "stdout",
     "output_type": "stream",
     "text": [
      "3212\n"
     ]
    },
    {
     "name": "stderr",
     "output_type": "stream",
     "text": [
      "7241it [12:29,  9.74it/s]"
     ]
    },
    {
     "name": "stdout",
     "output_type": "stream",
     "text": [
      "3190\n",
      "3190\n"
     ]
    },
    {
     "name": "stderr",
     "output_type": "stream",
     "text": [
      "7270it [12:32,  9.72it/s]"
     ]
    },
    {
     "name": "stdout",
     "output_type": "stream",
     "text": [
      "3168\n",
      "3168\n"
     ]
    },
    {
     "name": "stderr",
     "output_type": "stream",
     "text": [
      "7309it [12:36,  9.59it/s]"
     ]
    },
    {
     "name": "stdout",
     "output_type": "stream",
     "text": [
      "3146\n",
      "3146\n"
     ]
    },
    {
     "name": "stderr",
     "output_type": "stream",
     "text": [
      "7414it [12:47,  9.69it/s]"
     ]
    },
    {
     "name": "stdout",
     "output_type": "stream",
     "text": [
      "3080\n",
      "3080\n"
     ]
    },
    {
     "name": "stderr",
     "output_type": "stream",
     "text": [
      "7451it [12:51,  9.74it/s]"
     ]
    },
    {
     "name": "stdout",
     "output_type": "stream",
     "text": [
      "3058\n"
     ]
    },
    {
     "name": "stderr",
     "output_type": "stream",
     "text": [
      "7502it [12:56,  9.63it/s]"
     ]
    },
    {
     "name": "stdout",
     "output_type": "stream",
     "text": [
      "3014\n",
      "3014\n"
     ]
    },
    {
     "name": "stderr",
     "output_type": "stream",
     "text": [
      "7535it [12:59,  9.64it/s]"
     ]
    },
    {
     "name": "stdout",
     "output_type": "stream",
     "text": [
      "2992\n",
      "2992\n"
     ]
    },
    {
     "name": "stderr",
     "output_type": "stream",
     "text": [
      "7538it [13:00,  9.61it/s]"
     ]
    },
    {
     "name": "stdout",
     "output_type": "stream",
     "text": [
      "2992\n"
     ]
    },
    {
     "name": "stderr",
     "output_type": "stream",
     "text": [
      "7575it [13:03,  9.57it/s]"
     ]
    },
    {
     "name": "stdout",
     "output_type": "stream",
     "text": [
      "2970\n",
      "2970\n"
     ]
    },
    {
     "name": "stderr",
     "output_type": "stream",
     "text": [
      "7576it [13:04,  9.50it/s]"
     ]
    },
    {
     "name": "stdout",
     "output_type": "stream",
     "text": [
      "2970\n"
     ]
    },
    {
     "name": "stderr",
     "output_type": "stream",
     "text": [
      "7623it [13:08,  9.71it/s]"
     ]
    },
    {
     "name": "stdout",
     "output_type": "stream",
     "text": [
      "2948\n"
     ]
    },
    {
     "name": "stderr",
     "output_type": "stream",
     "text": [
      "7657it [13:12,  9.62it/s]"
     ]
    },
    {
     "name": "stdout",
     "output_type": "stream",
     "text": [
      "2926\n",
      "2926\n"
     ]
    },
    {
     "name": "stderr",
     "output_type": "stream",
     "text": [
      "7688it [13:15,  9.65it/s]"
     ]
    },
    {
     "name": "stdout",
     "output_type": "stream",
     "text": [
      "2904\n",
      "2904\n"
     ]
    },
    {
     "name": "stderr",
     "output_type": "stream",
     "text": [
      "7690it [13:15,  9.71it/s]"
     ]
    },
    {
     "name": "stdout",
     "output_type": "stream",
     "text": [
      "2904\n",
      "2904\n"
     ]
    },
    {
     "name": "stderr",
     "output_type": "stream",
     "text": [
      "7740it [13:21,  9.69it/s]"
     ]
    },
    {
     "name": "stdout",
     "output_type": "stream",
     "text": [
      "2882\n",
      "2882\n"
     ]
    },
    {
     "name": "stderr",
     "output_type": "stream",
     "text": [
      "7778it [13:24,  9.52it/s]"
     ]
    },
    {
     "name": "stdout",
     "output_type": "stream",
     "text": [
      "2860\n",
      "2860\n"
     ]
    },
    {
     "name": "stderr",
     "output_type": "stream",
     "text": [
      "7781it [13:25,  9.66it/s]"
     ]
    },
    {
     "name": "stdout",
     "output_type": "stream",
     "text": [
      "2860\n",
      "2860\n"
     ]
    },
    {
     "name": "stderr",
     "output_type": "stream",
     "text": [
      "7831it [13:30,  9.72it/s]"
     ]
    },
    {
     "name": "stdout",
     "output_type": "stream",
     "text": [
      "2838\n",
      "2838\n"
     ]
    },
    {
     "name": "stderr",
     "output_type": "stream",
     "text": [
      "7874it [13:34,  9.64it/s]"
     ]
    },
    {
     "name": "stdout",
     "output_type": "stream",
     "text": [
      "2816\n"
     ]
    },
    {
     "name": "stderr",
     "output_type": "stream",
     "text": [
      "7907it [13:38,  9.75it/s]"
     ]
    },
    {
     "name": "stdout",
     "output_type": "stream",
     "text": [
      "2794\n",
      "2794\n"
     ]
    },
    {
     "name": "stderr",
     "output_type": "stream",
     "text": [
      "7937it [13:41,  9.62it/s]"
     ]
    },
    {
     "name": "stdout",
     "output_type": "stream",
     "text": [
      "2772\n",
      "2772\n"
     ]
    },
    {
     "name": "stderr",
     "output_type": "stream",
     "text": [
      "7978it [13:45,  9.75it/s]"
     ]
    },
    {
     "name": "stdout",
     "output_type": "stream",
     "text": [
      "2750\n"
     ]
    },
    {
     "name": "stderr",
     "output_type": "stream",
     "text": [
      "8043it [13:52,  9.64it/s]"
     ]
    },
    {
     "name": "stdout",
     "output_type": "stream",
     "text": [
      "2706\n"
     ]
    },
    {
     "name": "stderr",
     "output_type": "stream",
     "text": [
      "8083it [13:56,  9.61it/s]"
     ]
    },
    {
     "name": "stdout",
     "output_type": "stream",
     "text": [
      "2684\n"
     ]
    },
    {
     "name": "stderr",
     "output_type": "stream",
     "text": [
      "8121it [14:00,  9.76it/s]"
     ]
    },
    {
     "name": "stdout",
     "output_type": "stream",
     "text": [
      "2662\n"
     ]
    },
    {
     "name": "stderr",
     "output_type": "stream",
     "text": [
      "8168it [14:05,  9.61it/s]"
     ]
    },
    {
     "name": "stdout",
     "output_type": "stream",
     "text": [
      "2640\n",
      "2640\n"
     ]
    },
    {
     "name": "stderr",
     "output_type": "stream",
     "text": [
      "8170it [14:05,  9.62it/s]"
     ]
    },
    {
     "name": "stdout",
     "output_type": "stream",
     "text": [
      "2640\n"
     ]
    },
    {
     "name": "stderr",
     "output_type": "stream",
     "text": [
      "8195it [14:08,  9.58it/s]"
     ]
    },
    {
     "name": "stdout",
     "output_type": "stream",
     "text": [
      "2618\n",
      "2618\n"
     ]
    },
    {
     "name": "stderr",
     "output_type": "stream",
     "text": [
      "8196it [14:08,  9.55it/s]"
     ]
    },
    {
     "name": "stdout",
     "output_type": "stream",
     "text": [
      "2618\n",
      "2618\n"
     ]
    },
    {
     "name": "stderr",
     "output_type": "stream",
     "text": [
      "8272it [14:16,  9.77it/s]"
     ]
    },
    {
     "name": "stdout",
     "output_type": "stream",
     "text": [
      "2574\n",
      "2574\n"
     ]
    },
    {
     "name": "stderr",
     "output_type": "stream",
     "text": [
      "8313it [14:20,  9.63it/s]"
     ]
    },
    {
     "name": "stdout",
     "output_type": "stream",
     "text": [
      "2552\n",
      "2552\n"
     ]
    },
    {
     "name": "stderr",
     "output_type": "stream",
     "text": [
      "8358it [14:25,  9.63it/s]"
     ]
    },
    {
     "name": "stdout",
     "output_type": "stream",
     "text": [
      "2530\n"
     ]
    },
    {
     "name": "stderr",
     "output_type": "stream",
     "text": [
      "8401it [14:29,  9.68it/s]"
     ]
    },
    {
     "name": "stdout",
     "output_type": "stream",
     "text": [
      "2508\n"
     ]
    },
    {
     "name": "stderr",
     "output_type": "stream",
     "text": [
      "8463it [14:36,  9.55it/s]"
     ]
    },
    {
     "name": "stdout",
     "output_type": "stream",
     "text": [
      "2486\n"
     ]
    },
    {
     "name": "stderr",
     "output_type": "stream",
     "text": [
      "8507it [14:40,  9.69it/s]"
     ]
    },
    {
     "name": "stdout",
     "output_type": "stream",
     "text": [
      "2464\n"
     ]
    },
    {
     "name": "stderr",
     "output_type": "stream",
     "text": [
      "8561it [14:46,  9.65it/s]"
     ]
    },
    {
     "name": "stdout",
     "output_type": "stream",
     "text": [
      "2442\n",
      "2442\n"
     ]
    },
    {
     "name": "stderr",
     "output_type": "stream",
     "text": [
      "8609it [14:51,  9.71it/s]"
     ]
    },
    {
     "name": "stdout",
     "output_type": "stream",
     "text": [
      "2420\n",
      "2420\n"
     ]
    },
    {
     "name": "stderr",
     "output_type": "stream",
     "text": [
      "8646it [14:55,  9.68it/s]"
     ]
    },
    {
     "name": "stdout",
     "output_type": "stream",
     "text": [
      "2398\n",
      "2398\n"
     ]
    },
    {
     "name": "stderr",
     "output_type": "stream",
     "text": [
      "8690it [14:59,  9.61it/s]"
     ]
    },
    {
     "name": "stdout",
     "output_type": "stream",
     "text": [
      "2376\n",
      "2376\n"
     ]
    },
    {
     "name": "stderr",
     "output_type": "stream",
     "text": [
      "8692it [14:59,  9.50it/s]"
     ]
    },
    {
     "name": "stdout",
     "output_type": "stream",
     "text": [
      "2376\n"
     ]
    },
    {
     "name": "stderr",
     "output_type": "stream",
     "text": [
      "8719it [15:02,  9.66it/s]"
     ]
    },
    {
     "name": "stdout",
     "output_type": "stream",
     "text": [
      "2354\n",
      "2354\n"
     ]
    },
    {
     "name": "stderr",
     "output_type": "stream",
     "text": [
      "8721it [15:02,  9.60it/s]"
     ]
    },
    {
     "name": "stdout",
     "output_type": "stream",
     "text": [
      "2354\n"
     ]
    },
    {
     "name": "stderr",
     "output_type": "stream",
     "text": [
      "8764it [15:07,  9.70it/s]"
     ]
    },
    {
     "name": "stdout",
     "output_type": "stream",
     "text": [
      "2332\n"
     ]
    },
    {
     "name": "stderr",
     "output_type": "stream",
     "text": [
      "8784it [15:09,  9.68it/s]"
     ]
    },
    {
     "name": "stdout",
     "output_type": "stream",
     "text": [
      "2310\n",
      "2310\n"
     ]
    },
    {
     "name": "stderr",
     "output_type": "stream",
     "text": [
      "8820it [15:13,  9.78it/s]"
     ]
    },
    {
     "name": "stdout",
     "output_type": "stream",
     "text": [
      "2288\n",
      "2288\n"
     ]
    },
    {
     "name": "stderr",
     "output_type": "stream",
     "text": [
      "8859it [15:17,  9.59it/s]"
     ]
    },
    {
     "name": "stdout",
     "output_type": "stream",
     "text": [
      "2266\n",
      "2266\n"
     ]
    },
    {
     "name": "stderr",
     "output_type": "stream",
     "text": [
      "8860it [15:17,  9.60it/s]"
     ]
    },
    {
     "name": "stdout",
     "output_type": "stream",
     "text": [
      "2266\n"
     ]
    },
    {
     "name": "stderr",
     "output_type": "stream",
     "text": [
      "8904it [15:21,  9.70it/s]"
     ]
    },
    {
     "name": "stdout",
     "output_type": "stream",
     "text": [
      "2244\n"
     ]
    },
    {
     "name": "stderr",
     "output_type": "stream",
     "text": [
      "8949it [15:26,  9.57it/s]"
     ]
    },
    {
     "name": "stdout",
     "output_type": "stream",
     "text": [
      "2222\n",
      "2222\n"
     ]
    },
    {
     "name": "stderr",
     "output_type": "stream",
     "text": [
      "8952it [15:26,  9.64it/s]"
     ]
    },
    {
     "name": "stdout",
     "output_type": "stream",
     "text": [
      "2222\n"
     ]
    },
    {
     "name": "stderr",
     "output_type": "stream",
     "text": [
      "9010it [15:33,  8.83it/s]"
     ]
    },
    {
     "name": "stdout",
     "output_type": "stream",
     "text": [
      "2200\n",
      "2200\n"
     ]
    },
    {
     "name": "stderr",
     "output_type": "stream",
     "text": [
      "9013it [15:33,  9.30it/s]"
     ]
    },
    {
     "name": "stdout",
     "output_type": "stream",
     "text": [
      "2200\n"
     ]
    },
    {
     "name": "stderr",
     "output_type": "stream",
     "text": [
      "9048it [15:37,  9.69it/s]"
     ]
    },
    {
     "name": "stdout",
     "output_type": "stream",
     "text": [
      "2178\n",
      "2178\n"
     ]
    },
    {
     "name": "stderr",
     "output_type": "stream",
     "text": [
      "9051it [15:37,  9.66it/s]"
     ]
    },
    {
     "name": "stdout",
     "output_type": "stream",
     "text": [
      "2178\n",
      "2178\n"
     ]
    },
    {
     "name": "stderr",
     "output_type": "stream",
     "text": [
      "9095it [15:42,  9.70it/s]"
     ]
    },
    {
     "name": "stdout",
     "output_type": "stream",
     "text": [
      "2156\n",
      "2156\n"
     ]
    },
    {
     "name": "stderr",
     "output_type": "stream",
     "text": [
      "9180it [15:51,  9.68it/s]"
     ]
    },
    {
     "name": "stdout",
     "output_type": "stream",
     "text": [
      "2112\n"
     ]
    },
    {
     "name": "stderr",
     "output_type": "stream",
     "text": [
      "9212it [15:54,  9.70it/s]"
     ]
    },
    {
     "name": "stdout",
     "output_type": "stream",
     "text": [
      "2090\n",
      "2090\n"
     ]
    },
    {
     "name": "stderr",
     "output_type": "stream",
     "text": [
      "9312it [16:04,  9.70it/s]"
     ]
    },
    {
     "name": "stdout",
     "output_type": "stream",
     "text": [
      "2046\n",
      "2046\n"
     ]
    },
    {
     "name": "stderr",
     "output_type": "stream",
     "text": [
      "9314it [16:04,  9.69it/s]"
     ]
    },
    {
     "name": "stdout",
     "output_type": "stream",
     "text": [
      "2046\n"
     ]
    },
    {
     "name": "stderr",
     "output_type": "stream",
     "text": [
      "9410it [16:14,  9.69it/s]"
     ]
    },
    {
     "name": "stdout",
     "output_type": "stream",
     "text": [
      "2002\n",
      "2002\n"
     ]
    },
    {
     "name": "stderr",
     "output_type": "stream",
     "text": [
      "9412it [16:15,  9.68it/s]"
     ]
    },
    {
     "name": "stdout",
     "output_type": "stream",
     "text": [
      "2002\n"
     ]
    },
    {
     "name": "stderr",
     "output_type": "stream",
     "text": [
      "9446it [16:18,  9.73it/s]"
     ]
    },
    {
     "name": "stdout",
     "output_type": "stream",
     "text": [
      "1980\n"
     ]
    },
    {
     "name": "stderr",
     "output_type": "stream",
     "text": [
      "9489it [16:23,  9.58it/s]"
     ]
    },
    {
     "name": "stdout",
     "output_type": "stream",
     "text": [
      "1958\n"
     ]
    },
    {
     "name": "stderr",
     "output_type": "stream",
     "text": [
      "9561it [16:30,  9.73it/s]"
     ]
    },
    {
     "name": "stdout",
     "output_type": "stream",
     "text": [
      "1936\n",
      "1936\n"
     ]
    },
    {
     "name": "stderr",
     "output_type": "stream",
     "text": [
      "9719it [16:46,  9.70it/s]"
     ]
    },
    {
     "name": "stdout",
     "output_type": "stream",
     "text": [
      "1870\n",
      "1870\n"
     ]
    },
    {
     "name": "stderr",
     "output_type": "stream",
     "text": [
      "9722it [16:47,  9.56it/s]"
     ]
    },
    {
     "name": "stdout",
     "output_type": "stream",
     "text": [
      "1870\n",
      "1870\n"
     ]
    },
    {
     "name": "stderr",
     "output_type": "stream",
     "text": [
      "9792it [16:54,  9.69it/s]"
     ]
    },
    {
     "name": "stdout",
     "output_type": "stream",
     "text": [
      "1848\n",
      "1848\n"
     ]
    },
    {
     "name": "stderr",
     "output_type": "stream",
     "text": [
      "9794it [16:54,  9.62it/s]"
     ]
    },
    {
     "name": "stdout",
     "output_type": "stream",
     "text": [
      "1848\n",
      "1848\n"
     ]
    },
    {
     "name": "stderr",
     "output_type": "stream",
     "text": [
      "9869it [17:02,  9.78it/s]"
     ]
    },
    {
     "name": "stdout",
     "output_type": "stream",
     "text": [
      "1826\n",
      "1826\n"
     ]
    },
    {
     "name": "stderr",
     "output_type": "stream",
     "text": [
      "9871it [17:02,  9.71it/s]"
     ]
    },
    {
     "name": "stdout",
     "output_type": "stream",
     "text": [
      "1826\n",
      "1826\n"
     ]
    },
    {
     "name": "stderr",
     "output_type": "stream",
     "text": [
      "9983it [17:14,  9.52it/s]"
     ]
    },
    {
     "name": "stdout",
     "output_type": "stream",
     "text": [
      "1804\n",
      "1804\n"
     ]
    },
    {
     "name": "stderr",
     "output_type": "stream",
     "text": [
      "9986it [17:14,  9.66it/s]"
     ]
    },
    {
     "name": "stdout",
     "output_type": "stream",
     "text": [
      "1804\n",
      "1804\n"
     ]
    },
    {
     "name": "stderr",
     "output_type": "stream",
     "text": [
      "9987it [17:14,  9.65it/s]"
     ]
    },
    {
     "name": "stdout",
     "output_type": "stream",
     "text": [
      "1804\n"
     ]
    },
    {
     "name": "stderr",
     "output_type": "stream",
     "text": [
      "10166it [17:33,  9.65it/s]"
     ]
    },
    {
     "name": "stdout",
     "output_type": "stream",
     "text": [
      "1782\n",
      "1782\n"
     ]
    },
    {
     "name": "stderr",
     "output_type": "stream",
     "text": [
      "10168it [17:34,  9.63it/s]"
     ]
    },
    {
     "name": "stdout",
     "output_type": "stream",
     "text": [
      "1782\n",
      "1782\n"
     ]
    },
    {
     "name": "stderr",
     "output_type": "stream",
     "text": [
      "10169it [17:34,  9.65it/s]"
     ]
    },
    {
     "name": "stdout",
     "output_type": "stream",
     "text": [
      "1782\n",
      "1782\n"
     ]
    },
    {
     "name": "stderr",
     "output_type": "stream",
     "text": [
      "10171it [17:34,  9.71it/s]"
     ]
    },
    {
     "name": "stdout",
     "output_type": "stream",
     "text": [
      "1782\n"
     ]
    },
    {
     "name": "stderr",
     "output_type": "stream",
     "text": [
      "10289it [17:46,  9.73it/s]"
     ]
    },
    {
     "name": "stdout",
     "output_type": "stream",
     "text": [
      "1760\n",
      "1760\n"
     ]
    },
    {
     "name": "stderr",
     "output_type": "stream",
     "text": [
      "10290it [17:46,  9.65it/s]"
     ]
    },
    {
     "name": "stdout",
     "output_type": "stream",
     "text": [
      "1760\n",
      "1760\n"
     ]
    },
    {
     "name": "stderr",
     "output_type": "stream",
     "text": [
      "10351it [17:52,  9.60it/s]"
     ]
    },
    {
     "name": "stdout",
     "output_type": "stream",
     "text": [
      "1738\n",
      "1738\n"
     ]
    },
    {
     "name": "stderr",
     "output_type": "stream",
     "text": [
      "10352it [17:53,  9.59it/s]"
     ]
    },
    {
     "name": "stdout",
     "output_type": "stream",
     "text": [
      "1738\n"
     ]
    },
    {
     "name": "stderr",
     "output_type": "stream",
     "text": [
      "10433it [18:01,  9.65it/s]"
     ]
    },
    {
     "name": "stdout",
     "output_type": "stream",
     "text": [
      "1716\n",
      "1716\n"
     ]
    },
    {
     "name": "stderr",
     "output_type": "stream",
     "text": [
      "10435it [18:01,  9.70it/s]"
     ]
    },
    {
     "name": "stdout",
     "output_type": "stream",
     "text": [
      "1716\n"
     ]
    },
    {
     "name": "stderr",
     "output_type": "stream",
     "text": [
      "10501it [18:08,  9.55it/s]"
     ]
    },
    {
     "name": "stdout",
     "output_type": "stream",
     "text": [
      "1694\n",
      "1694\n"
     ]
    },
    {
     "name": "stderr",
     "output_type": "stream",
     "text": [
      "10502it [18:08,  9.54it/s]"
     ]
    },
    {
     "name": "stdout",
     "output_type": "stream",
     "text": [
      "1694\n"
     ]
    },
    {
     "name": "stderr",
     "output_type": "stream",
     "text": [
      "10574it [18:15,  9.74it/s]"
     ]
    },
    {
     "name": "stdout",
     "output_type": "stream",
     "text": [
      "1672\n",
      "1672\n"
     ]
    },
    {
     "name": "stderr",
     "output_type": "stream",
     "text": [
      "10659it [18:24,  9.49it/s]"
     ]
    },
    {
     "name": "stdout",
     "output_type": "stream",
     "text": [
      "1650\n",
      "1650\n"
     ]
    },
    {
     "name": "stderr",
     "output_type": "stream",
     "text": [
      "10735it [18:32,  9.57it/s]"
     ]
    },
    {
     "name": "stdout",
     "output_type": "stream",
     "text": [
      "1628\n",
      "1628\n"
     ]
    },
    {
     "name": "stderr",
     "output_type": "stream",
     "text": [
      "10737it [18:32,  9.62it/s]"
     ]
    },
    {
     "name": "stdout",
     "output_type": "stream",
     "text": [
      "1628\n"
     ]
    },
    {
     "name": "stderr",
     "output_type": "stream",
     "text": [
      "10816it [18:41,  9.61it/s]"
     ]
    },
    {
     "name": "stdout",
     "output_type": "stream",
     "text": [
      "1606\n",
      "1606\n"
     ]
    },
    {
     "name": "stderr",
     "output_type": "stream",
     "text": [
      "10819it [18:41,  9.67it/s]"
     ]
    },
    {
     "name": "stdout",
     "output_type": "stream",
     "text": [
      "1606\n",
      "1606\n"
     ]
    },
    {
     "name": "stderr",
     "output_type": "stream",
     "text": [
      "10821it [18:41,  9.65it/s]"
     ]
    },
    {
     "name": "stdout",
     "output_type": "stream",
     "text": [
      "1606\n"
     ]
    },
    {
     "name": "stderr",
     "output_type": "stream",
     "text": [
      "10895it [18:49,  9.60it/s]"
     ]
    },
    {
     "name": "stdout",
     "output_type": "stream",
     "text": [
      "1584\n",
      "1584\n"
     ]
    },
    {
     "name": "stderr",
     "output_type": "stream",
     "text": [
      "10898it [18:49,  9.58it/s]"
     ]
    },
    {
     "name": "stdout",
     "output_type": "stream",
     "text": [
      "1584\n",
      "1584\n"
     ]
    },
    {
     "name": "stderr",
     "output_type": "stream",
     "text": [
      "10899it [18:49,  9.58it/s]"
     ]
    },
    {
     "name": "stdout",
     "output_type": "stream",
     "text": [
      "1584\n",
      "1584\n"
     ]
    },
    {
     "name": "stderr",
     "output_type": "stream",
     "text": [
      "10996it [18:59,  9.79it/s]"
     ]
    },
    {
     "name": "stdout",
     "output_type": "stream",
     "text": [
      "1562\n",
      "1562\n"
     ]
    },
    {
     "name": "stderr",
     "output_type": "stream",
     "text": [
      "10997it [18:59,  9.66it/s]"
     ]
    },
    {
     "name": "stdout",
     "output_type": "stream",
     "text": [
      "1562\n",
      "1562\n"
     ]
    },
    {
     "name": "stderr",
     "output_type": "stream",
     "text": [
      "10999it [18:59,  9.63it/s]"
     ]
    },
    {
     "name": "stdout",
     "output_type": "stream",
     "text": [
      "1562\n",
      "1562\n"
     ]
    },
    {
     "name": "stderr",
     "output_type": "stream",
     "text": [
      "11126it [19:13,  9.57it/s]"
     ]
    },
    {
     "name": "stdout",
     "output_type": "stream",
     "text": [
      "1540\n",
      "1540\n"
     ]
    },
    {
     "name": "stderr",
     "output_type": "stream",
     "text": [
      "11128it [19:14,  9.57it/s]"
     ]
    },
    {
     "name": "stdout",
     "output_type": "stream",
     "text": [
      "1540\n",
      "1540\n"
     ]
    },
    {
     "name": "stderr",
     "output_type": "stream",
     "text": [
      "11131it [19:14,  9.65it/s]"
     ]
    },
    {
     "name": "stdout",
     "output_type": "stream",
     "text": [
      "1540\n",
      "1540\n"
     ]
    },
    {
     "name": "stderr",
     "output_type": "stream",
     "text": [
      "11133it [19:14,  9.60it/s]"
     ]
    },
    {
     "name": "stdout",
     "output_type": "stream",
     "text": [
      "1540\n"
     ]
    },
    {
     "name": "stderr",
     "output_type": "stream",
     "text": [
      "11258it [19:27,  9.67it/s]"
     ]
    },
    {
     "name": "stdout",
     "output_type": "stream",
     "text": [
      "1518\n",
      "1518\n"
     ]
    },
    {
     "name": "stderr",
     "output_type": "stream",
     "text": [
      "11259it [19:27,  9.55it/s]"
     ]
    },
    {
     "name": "stdout",
     "output_type": "stream",
     "text": [
      "1518\n",
      "1518\n"
     ]
    },
    {
     "name": "stderr",
     "output_type": "stream",
     "text": [
      "11261it [19:27,  9.61it/s]"
     ]
    },
    {
     "name": "stdout",
     "output_type": "stream",
     "text": [
      "1518\n"
     ]
    },
    {
     "name": "stderr",
     "output_type": "stream",
     "text": [
      "11377it [19:39,  9.64it/s]"
     ]
    },
    {
     "name": "stdout",
     "output_type": "stream",
     "text": [
      "1496\n",
      "1496\n"
     ]
    },
    {
     "name": "stderr",
     "output_type": "stream",
     "text": [
      "11379it [19:40,  9.56it/s]"
     ]
    },
    {
     "name": "stdout",
     "output_type": "stream",
     "text": [
      "1496\n",
      "1496\n"
     ]
    },
    {
     "name": "stderr",
     "output_type": "stream",
     "text": [
      "11381it [19:40,  9.55it/s]"
     ]
    },
    {
     "name": "stdout",
     "output_type": "stream",
     "text": [
      "1496\n",
      "1496\n"
     ]
    },
    {
     "name": "stderr",
     "output_type": "stream",
     "text": [
      "11383it [19:40,  9.55it/s]"
     ]
    },
    {
     "name": "stdout",
     "output_type": "stream",
     "text": [
      "1496\n",
      "1496\n"
     ]
    },
    {
     "name": "stderr",
     "output_type": "stream",
     "text": [
      "11385it [19:40,  9.62it/s]"
     ]
    },
    {
     "name": "stdout",
     "output_type": "stream",
     "text": [
      "1496\n",
      "1496\n"
     ]
    },
    {
     "name": "stderr",
     "output_type": "stream",
     "text": [
      "11387it [19:40,  9.59it/s]"
     ]
    },
    {
     "name": "stdout",
     "output_type": "stream",
     "text": [
      "1496\n"
     ]
    },
    {
     "name": "stderr",
     "output_type": "stream",
     "text": [
      "11526it [19:55,  9.60it/s]"
     ]
    },
    {
     "name": "stdout",
     "output_type": "stream",
     "text": [
      "1474\n",
      "1474\n"
     ]
    },
    {
     "name": "stderr",
     "output_type": "stream",
     "text": [
      "11527it [19:55,  9.65it/s]"
     ]
    },
    {
     "name": "stdout",
     "output_type": "stream",
     "text": [
      "1474\n",
      "1474\n"
     ]
    },
    {
     "name": "stderr",
     "output_type": "stream",
     "text": [
      "11529it [19:55,  9.64it/s]"
     ]
    },
    {
     "name": "stdout",
     "output_type": "stream",
     "text": [
      "1474\n",
      "1474\n"
     ]
    },
    {
     "name": "stderr",
     "output_type": "stream",
     "text": [
      "11532it [19:55,  9.57it/s]"
     ]
    },
    {
     "name": "stdout",
     "output_type": "stream",
     "text": [
      "1474\n",
      "1474\n"
     ]
    },
    {
     "name": "stderr",
     "output_type": "stream",
     "text": [
      "11773it [20:20,  9.71it/s]"
     ]
    },
    {
     "name": "stdout",
     "output_type": "stream",
     "text": [
      "1452\n",
      "1452\n"
     ]
    },
    {
     "name": "stderr",
     "output_type": "stream",
     "text": [
      "11775it [20:20,  9.77it/s]"
     ]
    },
    {
     "name": "stdout",
     "output_type": "stream",
     "text": [
      "1452\n",
      "1452\n"
     ]
    },
    {
     "name": "stderr",
     "output_type": "stream",
     "text": [
      "11778it [20:21,  9.63it/s]"
     ]
    },
    {
     "name": "stdout",
     "output_type": "stream",
     "text": [
      "1452\n",
      "1452\n"
     ]
    },
    {
     "name": "stderr",
     "output_type": "stream",
     "text": [
      "11779it [20:21,  9.57it/s]"
     ]
    },
    {
     "name": "stdout",
     "output_type": "stream",
     "text": [
      "1452\n",
      "1452\n"
     ]
    },
    {
     "name": "stderr",
     "output_type": "stream",
     "text": [
      "11782it [20:21,  9.66it/s]"
     ]
    },
    {
     "name": "stdout",
     "output_type": "stream",
     "text": [
      "1452\n",
      "1452\n"
     ]
    },
    {
     "name": "stderr",
     "output_type": "stream",
     "text": [
      "11783it [20:21,  9.61it/s]"
     ]
    },
    {
     "name": "stdout",
     "output_type": "stream",
     "text": [
      "1452\n"
     ]
    },
    {
     "name": "stderr",
     "output_type": "stream",
     "text": [
      "12000it [20:44,  9.64it/s]\n"
     ]
    },
    {
     "name": "stdout",
     "output_type": "stream",
     "text": [
      "Total models collected: 11649\n"
     ]
    }
   ],
   "source": [
    "\n",
    "\n",
    "\n",
    "# Authentication (optional)\n",
    "ACCESS_TOKEN = os.getenv(\"HUGGINGFACE_ACCESS_TOKEN\")  # Set your Hugging Face API token as an environment variable\n",
    "\n",
    "# Initialize API\n",
    "api = HfApi()\n",
    "\n",
    "# If you have an access token, save it\n",
    "if ACCESS_TOKEN:\n",
    "    HfFolder.save_token(ACCESS_TOKEN)\n",
    "\n",
    "# Function to collect model data\n",
    "def collect_model_data():\n",
    "    models_data = []\n",
    "    fetch_limit = 12000  # Maximum number of models to fetch\n",
    "    sort_order = \"downloads\"  # You can sort by 'lastModified', 'downloads', 'stars', etc.\n",
    "\n",
    "    # Note: As of my knowledge cutoff in 2021, the Hugging Face Hub API does not support filtering by creation date directly.\n",
    "    # We'll fetch models and filter them manually.\n",
    "\n",
    "    # Search models\n",
    "    print(\"Fetching models from Hugging Face Hub...\")\n",
    "    models = api.list_models(\n",
    "        sort=sort_order,\n",
    "        direction=-1,  # Descending order\n",
    "        limit=fetch_limit,\n",
    "        use_auth_token=ACCESS_TOKEN,\n",
    "        full=True,  # Fetch full metadata\n",
    "        \n",
    "    )\n",
    "    \n",
    "    for model in tqdm(models):\n",
    "        # Convert timestamp strings to datetime objects\n",
    "        if hasattr(model, 'lastModified'):\n",
    "            last_modified = model.lastModified\n",
    "        else:\n",
    "            last_modified = datetime.now(tz=model.lastModified.tzinfo)\n",
    "\n",
    "        # Filter models created since the specified date\n",
    "        if last_modified >= SINCE_DATE:\n",
    "            # Get the model's downloads (may require an authenticated request)\n",
    "            downloads = model.downloads if hasattr(model, 'downloads') else 0\n",
    "\n",
    "            if downloads >= MIN_DOWNLOADS:\n",
    "                model_data = {\n",
    "                    \"modelId\": model.modelId,\n",
    "                    \"likes\": model.likes if hasattr(model, 'likes') else 0,\n",
    "                    \"modelName\": model.modelId.split(\"/\")[-1],\n",
    "                    \"author\": model.modelId.split(\"/\")[0] if \"/\" in model.modelId else None,\n",
    "                    \"downloads\": downloads,\n",
    "                    \"lastModified\": model.lastModified,\n",
    "                    \"tags\": model.tags,\n",
    "                    \"pipeline_tag\": model.pipeline_tag,\n",
    "                    \"sha\": model.sha,\n",
    "                    \"private\": model.private,\n",
    "                    \"inference\": model.inference,\n",
    "\n",
    "                }\n",
    "                #randomdly print downloads\n",
    "                if downloads%22 == 0:\n",
    "                    print(downloads)\n",
    "                models_data.append(model_data)\n",
    "\n",
    "        # Respect rate limits\n",
    "        time.sleep(0.1)\n",
    "\n",
    "    print(f\"Total models collected: {len(models_data)}\")\n",
    "    return pd.DataFrame(models_data)\n",
    "\n",
    "\n",
    "\n",
    "df = collect_model_data()\n",
    "\n",
    "df.to_csv(OUTPUT_CSV, index=False)"
   ]
  },
  {
   "cell_type": "code",
   "execution_count": 5,
   "metadata": {},
   "outputs": [
    {
     "name": "stderr",
     "output_type": "stream",
     "text": [
      "100%|██████████| 11649/11649 [17:22<00:00, 11.18it/s]\n"
     ]
    }
   ],
   "source": [
    "import os\n",
    "import time\n",
    "import shutil\n",
    "import pandas as pd\n",
    "OUTPUT_CSV = \"hf_models.csv\"\n",
    "OUTPUT_DIR = \"model_cards\"  # Directory to save model files\n",
    "ACCESS_TOKEN = os.getenv(\"HUGGINGFACE_ACCESS_TOKEN\") \n",
    "from huggingface_hub import HfApi, HfFolder\n",
    "from tqdm import tqdm\n",
    "\n",
    "\n",
    "df = pd.read_csv(OUTPUT_CSV)\n",
    "\n",
    "# Initialize API\n",
    "api = HfApi()\n",
    "\n",
    "# Optional: Function to download model files\n",
    "def download_model_files(model_ids):\n",
    "    if not os.path.exists(OUTPUT_DIR):\n",
    "        os.makedirs(OUTPUT_DIR)\n",
    "\n",
    "    for model_id in tqdm(model_ids):\n",
    "\n",
    "        #check if readme already exists\n",
    "        if os.path.exists(f\"{OUTPUT_DIR}/{model_id.replace('/', '_')}.md\"):\n",
    "            #print(f\"Skipping {model_id} as README.md already exists\")\n",
    "            continue\n",
    "\n",
    "        #print(f\"Downloading files for model: {model_id}\")\n",
    "        #files = api.list_repo_files(repo_id=model_id, use_auth_token=ACCESS_TOKEN)\n",
    "\n",
    "        # Create a directory for each model\n",
    "        model_dir = os.path.join(OUTPUT_DIR, model_id.replace(\"/\", \"_\"))\n",
    "        if not os.path.exists(model_dir):\n",
    "            os.makedirs(model_dir)\n",
    "\n",
    "        #downlaod it as {model_id}.md\n",
    "        try:\n",
    "            api.hf_hub_download(\n",
    "                repo_id=model_id,\n",
    "                filename='README.md',\n",
    "                local_dir=model_dir,\n",
    "                use_auth_token=ACCESS_TOKEN,\n",
    "            )\n",
    "        except Exception as e:\n",
    "            #print(f\"Error downloading README.md for model {model_id}: {e}\")\n",
    "            continue\n",
    "        #move the file to OUTPUT_DIR/{model_id}.md\n",
    "        model_id = model_id.replace(\"/\", \"_\")\n",
    "        os.rename(f\"{model_dir}/README.md\", f\"{OUTPUT_DIR}/{model_id}.md\")\n",
    "        #delete folder and contents# folder may still have files\n",
    "        \n",
    "        shutil.rmtree(model_dir)\n",
    "\n",
    "\n",
    "        # Respect rate limits\n",
    "        time.sleep(0.1)\n",
    "download_model_files(df.modelId.values.tolist())"
   ]
  },
  {
   "cell_type": "code",
   "execution_count": 2,
   "metadata": {},
   "outputs": [
    {
     "ename": "NameError",
     "evalue": "name 'ReadMe' is not defined",
     "output_type": "error",
     "traceback": [
      "\u001b[1;31m---------------------------------------------------------------------------\u001b[0m",
      "\u001b[1;31mNameError\u001b[0m                                 Traceback (most recent call last)",
      "Cell \u001b[1;32mIn[2], line 21\u001b[0m\n\u001b[0;32m     18\u001b[0m repos_df[\u001b[38;5;124m\"\u001b[39m\u001b[38;5;124mreadme_text\u001b[39m\u001b[38;5;124m\"\u001b[39m] \u001b[38;5;241m=\u001b[39m readme_text\n\u001b[0;32m     19\u001b[0m repos_df \u001b[38;5;241m=\u001b[39m repos_df\u001b[38;5;241m.\u001b[39mdropna(subset\u001b[38;5;241m=\u001b[39m[\u001b[38;5;124m\"\u001b[39m\u001b[38;5;124mreadme_text\u001b[39m\u001b[38;5;124m\"\u001b[39m])\n\u001b[1;32m---> 21\u001b[0m predictor \u001b[38;5;241m=\u001b[39m \u001b[43mReadMe\u001b[49m(lang\u001b[38;5;241m=\u001b[39m\u001b[38;5;124m'\u001b[39m\u001b[38;5;124men\u001b[39m\u001b[38;5;124m'\u001b[39m)\n\u001b[0;32m     22\u001b[0m predictor\u001b[38;5;241m.\u001b[39mmodel\u001b[38;5;241m.\u001b[39mto(\u001b[38;5;124m'\u001b[39m\u001b[38;5;124mcuda\u001b[39m\u001b[38;5;124m'\u001b[39m)\n",
      "\u001b[1;31mNameError\u001b[0m: name 'ReadMe' is not defined"
     ]
    }
   ],
   "source": [
    "import pandas as pd\n",
    "repos_df = pd.read_csv(\"hf_models.csv\")\n",
    "repos_df.head(20)\n",
    "readme_text = []\n",
    "\n",
    "#for every repo in the csv, get the readme\n",
    "for index,row in repos_df.iterrows():\n",
    "    repo_full_name = row[\"modelId\"]\n",
    "    safe_name = repo_full_name.replace(\"/\", \"_\")\n",
    "\n",
    "    #open the readme file\n",
    "    try:\n",
    "        with open(f\"model_cards/{safe_name}.md\", \"r\", encoding=\"utf-8\") as f:\n",
    "            readme = f.read()\n",
    "            readme_text.append(readme)\n",
    "    except:\n",
    "        readme_text.append(None)\n",
    "repos_df[\"readme_text\"] = readme_text\n",
    "repos_df = repos_df.dropna(subset=[\"readme_text\"])\n",
    "\n",
    "from readmepp import ReadMe\n",
    "predictor = ReadMe(lang='en')\n",
    "predictor.model.to('cuda')"
   ]
  },
  {
   "cell_type": "markdown",
   "metadata": {},
   "source": [
    "# Process Dependant Columns"
   ]
  },
  {
   "cell_type": "code",
   "execution_count": 4,
   "metadata": {},
   "outputs": [],
   "source": [
    "import re\n",
    "import numpy as np\n",
    "\n",
    "#count the occurences of \"^- \" of each readme\n",
    "lists_count = repos_df[\"readme_text\"].str.count(r\"^- \", flags=re.MULTILINE)\n",
    "#log then normalize it\n",
    "lists_count = np.log1p(1 + lists_count)\n",
    "lists_count = (lists_count - lists_count.min()) / (lists_count.max() - lists_count.min())\n",
    "repos_df[\"lists_count\"] = lists_count\n",
    "\n",
    "#count hypperlinks\n",
    "hyperlinks_count = repos_df[\"readme_text\"].str.count(r\"http[s]?:\\/\\/(?:[a-zA-Z]|[0-9]|[$-_@.&+]|[!*\\\\(\\\\),]|(?:%[0-9a-fA-F][0-9a-fA-F]))+\", flags=re.MULTILINE)\n",
    "#log then normalize it\n",
    "hyperlinks_count = np.log1p(1 + hyperlinks_count)\n",
    "hyperlinks_count = (hyperlinks_count - hyperlinks_count.min()) / (hyperlinks_count.max() - hyperlinks_count.min())\n",
    "repos_df[\"hyperlinks_count\"] = hyperlinks_count\n",
    "\n",
    "#number of images ending in .png, .jpg, .jpeg, .gif (url or local path) in .md ir .rst\n",
    "#[image] (https://example.com/image.png)\n",
    "#image:: https://example.com/image.png\n",
    "#<.*src.*=.*\\.(png|jpg|jpeg|gif|svg).*>\n",
    "images_count = repos_df[\"readme_text\"].str.count(r\"!\\[.*\\]\\(.*\\.(png|jpg|jpeg|gif|svg)\\)\", flags=re.MULTILINE) + \\\n",
    "            repos_df[\"readme_text\"].str.count(r\"image::.*\\.(png|jpg|jpeg|gif|svg)\", flags=re.MULTILINE) + \\\n",
    "            repos_df[\"readme_text\"].str.count(r\"<.*src.*=.*\\.(png|jpg|jpeg|gif|svg).*>\", flags=re.MULTILINE)\n",
    "#log then normalize it\n",
    "images_count = np.log1p(1 + images_count)\n",
    "images_count = (images_count - images_count.min()) / (images_count.max() - images_count.min())\n",
    "repos_df[\"images_count\"] = images_count\n",
    "\n",
    "#number of code blocks divide by 2 and round down\n",
    "code_blocks_count = (repos_df[\"readme_text\"].str.count(r\"^```\", flags=re.MULTILINE) // 2).astype(int)\n",
    "#log then normalize it\n",
    "code_blocks_count = np.log1p(1 + code_blocks_count)\n",
    "code_blocks_count = (code_blocks_count - code_blocks_count.min()) / (code_blocks_count.max() - code_blocks_count.min())\n",
    "repos_df[\"code_blocks_count\"] = code_blocks_count\n",
    "\n",
    "#number of new lines with content\n",
    "content_lines_count = repos_df[\"readme_text\"].str.count(r\"^.*[^\\s]\", flags=re.MULTILINE)\n",
    "#log then normalize it\n",
    "content_lines_count = np.log1p(1 + content_lines_count)\n",
    "content_lines_count = (content_lines_count - content_lines_count.min()) / (content_lines_count.max() - content_lines_count.min())\n",
    "repos_df[\"content_lines_count\"] = content_lines_count\n",
    "\n",
    "\n",
    "\n",
    "# Flesch Reading Score\n",
    "#textstat.flesch_reading_ease(test_data)\n",
    "import textstat\n",
    "flesch_reading_scores = repos_df[\"readme_text\"].apply(lambda x: textstat.flesch_reading_ease(x) if x else None)\n",
    "#normalize\n",
    "flesch_reading_scores = (flesch_reading_scores - flesch_reading_scores.min()) / (flesch_reading_scores.max() - flesch_reading_scores.min())\n",
    "repos_df[\"flesch_reading_scores\"] = flesch_reading_scores\n",
    "\n",
    "\n",
    "# number of headers\n",
    "headers_count = repos_df[\"readme_text\"].str.count(r\"#+\", flags=re.MULTILINE)\n",
    "#log then normalize\n",
    "headers_count = np.log1p(1 + headers_count)\n",
    "headers_count = (headers_count - headers_count.min()) / (headers_count.max() - headers_count.min())\n",
    "repos_df[\"headers_count\"] = headers_count"
   ]
  },
  {
   "cell_type": "code",
   "execution_count": 5,
   "metadata": {},
   "outputs": [],
   "source": [
    "repos_df[\"readmepp\"] = repos_df[\"readme_text\"].apply(lambda x: predictor.predict(x) if x else None)"
   ]
  },
  {
   "cell_type": "code",
   "execution_count": 6,
   "metadata": {},
   "outputs": [
    {
     "name": "stdout",
     "output_type": "stream",
     "text": [
      "getting-started\n",
      "contributing\n",
      "license\n"
     ]
    }
   ],
   "source": [
    "import re\n",
    "import pandas as pd\n",
    "\n",
    "def parse_markdown_headers(text):\n",
    "    '''Parse markdown text into a list of (header_level, header_text, content) tuples'''\n",
    "    lines = text.split('\\n')\n",
    "    headers = []\n",
    "    current_header = None\n",
    "    current_content = []\n",
    "    current_level = None\n",
    "    for line in lines:\n",
    "        header_match = re.match(r'^(#{1,3})\\s+(.*)', line)\n",
    "        if header_match:\n",
    "            # Save the current content if any\n",
    "            if current_header is not None:\n",
    "                headers.append((current_level, current_header, '\\n'.join(current_content)))\n",
    "            # Start a new header\n",
    "            current_level = len(header_match.group(1))\n",
    "            current_header = header_match.group(2)\n",
    "            current_content = []\n",
    "        else:\n",
    "            if current_header is not None:\n",
    "                current_content.append(line)\n",
    "    # Save the last header content\n",
    "    if current_header is not None:\n",
    "        headers.append((current_level, current_header, '\\n'.join(current_content)))\n",
    "    return headers\n",
    "\n",
    "def process_readme(text, keywords_subset,content_subset, levels=(1,2,3)):\n",
    "    \"\"\"\n",
    "    Process a single README text.\n",
    "    Returns:\n",
    "        header_found: True if at least one header keyword is found in headers of specified levels.\n",
    "        percentage: Percentage of keywords found in content under matching headers.\n",
    "    \"\"\"\n",
    "    headers = parse_markdown_headers(text)\n",
    "    # Initialize\n",
    "    header_found = False\n",
    "    content_text = ''\n",
    "    index = 0\n",
    "    for level, header_text, content in headers:\n",
    "        if level in levels:\n",
    "            # Check if any of the keywords are present in the header text\n",
    "            if any(kw.lower() in header_text.lower() for kw in keywords_subset):\n",
    "                header_found = True\n",
    "                #then collect all header with lower level and stop untill equal or higher level\n",
    "                content_text += '\\n' + content\n",
    "                for next_level, next_header_text, next_content in headers[index+1:]:\n",
    "                    if next_level <= level:\n",
    "                        break\n",
    "                    content_text += '\\n' + next_content\n",
    "\n",
    "        index += 1\n",
    "    # If no matching headers, percentage is 0\n",
    "    if not header_found or not keywords_subset:\n",
    "        return header_found, 0.0\n",
    "    # Now compute the percentage of keywords found in content_text\n",
    "    total_keywords = len(content_subset)\n",
    "    found_keywords = sum(1 for kw in content_subset if kw.lower() in content_text.lower())\n",
    "    percentage = found_keywords / total_keywords\n",
    "    return header_found, percentage\n",
    "\n",
    "# Modify your main loop\n",
    "readme_type = \"hf\"  # \"gh\" or \"hf\"\n",
    "for keyword_category in keywords[\"keywords\"]:\n",
    "    print(keyword_category)\n",
    "\n",
    "    # Initialize columns\n",
    "    header_column = f\"header_{keyword_category}\"\n",
    "    percentage_column = f\"percentage_{keyword_category}\"\n",
    "    #repos_df[header_column] = False  # This will be the header_found boolean\n",
    "    #repos_df[percentage_column] = 0.0  # This will be the keyword percentage\n",
    "\n",
    "    keywords_subset = keywords[\"keywords\"][keyword_category][f\"{readme_type}-header-keywords\"]\n",
    "    content_subset = keywords[\"keywords\"][keyword_category][f\"{readme_type}-content-keywords\"]\n",
    "\n",
    "    # Apply the function to each row\n",
    "    def process_row(row):\n",
    "        text = row['readme_text']\n",
    "        header_found, percentage = process_readme(text, keywords_subset, content_subset)\n",
    "        return pd.Series({header_column: header_found, percentage_column: percentage})\n",
    "\n",
    "    repos_df[[header_column, percentage_column]] = repos_df.apply(process_row, axis=1)"
   ]
  },
  {
   "cell_type": "markdown",
   "metadata": {},
   "source": [
    "# Dependant Extraction"
   ]
  },
  {
   "cell_type": "code",
   "execution_count": 64,
   "metadata": {},
   "outputs": [],
   "source": [
    "downloads_normalized = np.log1p(1 + repos_df[\"downloads\"])\n",
    "repos_df[\"downloads_normalized\"] = (downloads_normalized - downloads_normalized.min()) / (downloads_normalized.max() - downloads_normalized.min())\n",
    "\n",
    "likes_normalized = np.log1p(1 + repos_df[\"likes\"])\n",
    "repos_df[\"likes_normalized\"] = (likes_normalized - likes_normalized.min()) / (likes_normalized.max() - likes_normalized.min())\n",
    "\n",
    "heurstics = downloads_normalized/likes_normalized\n",
    "heurstics = (heurstics - heurstics.min()) / (heurstics.max() - heurstics.min())\n",
    "repos_df['onboarding_normalized'] = heurstics\n",
    "\n",
    "\n",
    "repos_df[['readmepp_normalized']] = (repos_df[['readmepp']] - 1)/5"
   ]
  },
  {
   "cell_type": "markdown",
   "metadata": {},
   "source": [
    "# Get Statistics"
   ]
  },
  {
   "cell_type": "code",
   "execution_count": 65,
   "metadata": {},
   "outputs": [
    {
     "name": "stdout",
     "output_type": "stream",
     "text": [
      "Pearson correlation between lists_count and likes_normalized: 0.121\n",
      "Pearson correlation between hyperlinks_count and likes_normalized: 0.278\n",
      "Pearson correlation between images_count and likes_normalized: 0.155\n",
      "Pearson correlation between code_blocks_count and likes_normalized: 0.282\n",
      "Pearson correlation between content_lines_count and likes_normalized: 0.307\n",
      "Pearson correlation between headers_count and likes_normalized: 0.308\n",
      "Pearson correlation between flesch_reading_scores and likes_normalized: 0.143\n",
      "Pearson correlation between readmepp_normalized and likes_normalized: 0.14\n",
      "Pearson correlation between header_getting-started and likes_normalized: 0.138\n",
      "Pearson correlation between header_contributing and likes_normalized: 0.117\n",
      "Pearson correlation between header_license and likes_normalized: 0.175\n",
      "Pearson correlation between lists_count and downloads_normalized: 0.066\n",
      "Pearson correlation between hyperlinks_count and downloads_normalized: 0.108\n",
      "Pearson correlation between images_count and downloads_normalized: -0.06\n",
      "Pearson correlation between code_blocks_count and downloads_normalized: 0.12\n",
      "Pearson correlation between content_lines_count and downloads_normalized: 0.137\n",
      "Pearson correlation between headers_count and downloads_normalized: 0.135\n",
      "Pearson correlation between flesch_reading_scores and downloads_normalized: 0.062\n",
      "Pearson correlation between readmepp_normalized and downloads_normalized: 0.026\n",
      "Pearson correlation between header_getting-started and downloads_normalized: 0.107\n",
      "Pearson correlation between header_contributing and downloads_normalized: -0.026\n",
      "Pearson correlation between header_license and downloads_normalized: 0.011\n",
      "Pearson correlation between lists_count and onboarding_normalized: -0.086\n",
      "Pearson correlation between hyperlinks_count and onboarding_normalized: -0.237\n",
      "Pearson correlation between images_count and onboarding_normalized: -0.158\n",
      "Pearson correlation between code_blocks_count and onboarding_normalized: -0.244\n",
      "Pearson correlation between content_lines_count and onboarding_normalized: -0.265\n",
      "Pearson correlation between headers_count and onboarding_normalized: -0.253\n",
      "Pearson correlation between flesch_reading_scores and onboarding_normalized: -0.127\n",
      "Pearson correlation between readmepp_normalized and onboarding_normalized: -0.167\n",
      "Pearson correlation between header_getting-started and onboarding_normalized: -0.112\n",
      "Pearson correlation between header_contributing and onboarding_normalized: -0.123\n",
      "Pearson correlation between header_license and onboarding_normalized: -0.159\n",
      "Pearson correlation between percentage_contributing and likes_normalized: 0.117\n",
      "Pearson correlation between percentage_getting-started and likes_normalized: 0.107\n",
      "Pearson correlation between percentage_license and likes_normalized: -0.015\n",
      "Pearson correlation between percentage_contributing and downloads_normalized: -0.059\n",
      "Pearson correlation between percentage_getting-started and downloads_normalized: 0.035\n",
      "Pearson correlation between percentage_license and downloads_normalized: -0.048\n",
      "Pearson correlation between percentage_contributing and onboarding_normalized: -0.154\n",
      "Pearson correlation between percentage_getting-started and onboarding_normalized: -0.126\n",
      "Pearson correlation between percentage_license and onboarding_normalized: -0.031\n"
     ]
    }
   ],
   "source": [
    "#Independant Columns normalized between 0 and 1\n",
    "count_independent_columns = [\"lists_count\", \"hyperlinks_count\", \"images_count\", \"code_blocks_count\", \"content_lines_count\", \"headers_count\"]\n",
    "#score Indecpend column\n",
    "score_independent_columns = [\"flesch_reading_scores\", \"readmepp_normalized\"]\n",
    "#keyword independant columns#binary 0 or 1\n",
    "keyword_independent_columns = [\"header_getting-started\", \"header_contributing\", \"header_license\"]\n",
    "#\n",
    "dependant_columns = [\"likes_normalized\",\"downloads_normalized\",\"onboarding_normalized\"]\n",
    "content_indenpendant_columns = [\"percentage_contributing\", \"percentage_getting-started\", \"percentage_license\"]\n",
    "\n",
    "\n",
    "independent_columns = count_independent_columns + score_independent_columns + keyword_independent_columns\n",
    "\n",
    "\n",
    "\n",
    "score_dict={\"counts\":{ column:{} for column in count_independent_columns}\n",
    "            ,\n",
    "       \"keyword\":{ column:{} for column in keyword_independent_columns},\n",
    "       \"content\": { column:{} for column in content_indenpendant_columns},\n",
    "       \"scores\":{ column:{} for column in score_independent_columns}\n",
    "       }\n",
    "\n",
    "\n",
    "repos_df = repos_df.dropna(subset=independent_columns + dependant_columns)\n",
    "# Pearson correlation\n",
    "from sklearn.feature_selection import r_regression\n",
    "\n",
    "for dependant in dependant_columns:\n",
    "    score = r_regression(repos_df[independent_columns].values, repos_df[dependant].values)\n",
    "\n",
    "    for i, column in enumerate(independent_columns):\n",
    "        print(f\"Pearson correlation between {column} and {dependant}: {round(score[i],3)}\")\n",
    "\n",
    "        if column in count_independent_columns:\n",
    "            score_dict[\"counts\"][column][dependant] = round(score[i],3)\n",
    "        elif column in keyword_independent_columns:\n",
    "            score_dict[\"keyword\"][column][dependant] = round(score[i],3)\n",
    "        elif column in score_independent_columns:\n",
    "            score_dict[\"scores\"][column][dependant] = round(score[i],3)\n",
    "\n",
    "for dependant in dependant_columns:\n",
    "    for i in range(len(content_indenpendant_columns)):\n",
    "        content_col = content_indenpendant_columns[i]\n",
    "        keyword_col = keyword_independent_columns[i]\n",
    "        repos_df_sub = repos_df[repos_df[keyword_col] == True]\n",
    "        \n",
    "        score = r_regression(repos_df_sub[[content_col]].values, repos_df_sub[dependant].values)\n",
    "        print(f\"Pearson correlation between {content_col} and {dependant}: {round(score[0],3)}\")\n",
    "        score_dict[\"content\"][content_col][dependant] = round(score[0],3)"
   ]
  },
  {
   "cell_type": "code",
   "execution_count": 78,
   "metadata": {},
   "outputs": [
    {
     "data": {
      "text/html": [
       "<div>\n",
       "<style scoped>\n",
       "    .dataframe tbody tr th:only-of-type {\n",
       "        vertical-align: middle;\n",
       "    }\n",
       "\n",
       "    .dataframe tbody tr th {\n",
       "        vertical-align: top;\n",
       "    }\n",
       "\n",
       "    .dataframe thead th {\n",
       "        text-align: right;\n",
       "    }\n",
       "</style>\n",
       "<table border=\"1\" class=\"dataframe\">\n",
       "  <thead>\n",
       "    <tr style=\"text-align: right;\">\n",
       "      <th></th>\n",
       "      <th></th>\n",
       "      <th>likes_normalized</th>\n",
       "      <th>downloads_normalized</th>\n",
       "      <th>onboarding_normalized</th>\n",
       "    </tr>\n",
       "    <tr>\n",
       "      <th>score_type</th>\n",
       "      <th>index</th>\n",
       "      <th></th>\n",
       "      <th></th>\n",
       "      <th></th>\n",
       "    </tr>\n",
       "  </thead>\n",
       "  <tbody>\n",
       "    <tr>\n",
       "      <th rowspan=\"6\" valign=\"top\">counts</th>\n",
       "      <th>code_blocks_count</th>\n",
       "      <td>0.282</td>\n",
       "      <td>0.120</td>\n",
       "      <td>-0.244</td>\n",
       "    </tr>\n",
       "    <tr>\n",
       "      <th>content_lines_count</th>\n",
       "      <td>0.307</td>\n",
       "      <td>0.137</td>\n",
       "      <td>-0.265</td>\n",
       "    </tr>\n",
       "    <tr>\n",
       "      <th>headers_count</th>\n",
       "      <td>0.308</td>\n",
       "      <td>0.135</td>\n",
       "      <td>-0.253</td>\n",
       "    </tr>\n",
       "    <tr>\n",
       "      <th>hyperlinks_count</th>\n",
       "      <td>0.278</td>\n",
       "      <td>0.108</td>\n",
       "      <td>-0.237</td>\n",
       "    </tr>\n",
       "    <tr>\n",
       "      <th>images_count</th>\n",
       "      <td>0.155</td>\n",
       "      <td>-0.060</td>\n",
       "      <td>-0.158</td>\n",
       "    </tr>\n",
       "    <tr>\n",
       "      <th>lists_count</th>\n",
       "      <td>0.121</td>\n",
       "      <td>0.066</td>\n",
       "      <td>-0.086</td>\n",
       "    </tr>\n",
       "    <tr>\n",
       "      <th rowspan=\"3\" valign=\"top\">keyword</th>\n",
       "      <th>header_contributing</th>\n",
       "      <td>0.117</td>\n",
       "      <td>-0.026</td>\n",
       "      <td>-0.123</td>\n",
       "    </tr>\n",
       "    <tr>\n",
       "      <th>header_getting-started</th>\n",
       "      <td>0.138</td>\n",
       "      <td>0.107</td>\n",
       "      <td>-0.112</td>\n",
       "    </tr>\n",
       "    <tr>\n",
       "      <th>header_license</th>\n",
       "      <td>0.175</td>\n",
       "      <td>0.011</td>\n",
       "      <td>-0.159</td>\n",
       "    </tr>\n",
       "    <tr>\n",
       "      <th rowspan=\"3\" valign=\"top\">content</th>\n",
       "      <th>percentage_contributing</th>\n",
       "      <td>0.117</td>\n",
       "      <td>-0.059</td>\n",
       "      <td>-0.154</td>\n",
       "    </tr>\n",
       "    <tr>\n",
       "      <th>percentage_getting-started</th>\n",
       "      <td>0.107</td>\n",
       "      <td>0.035</td>\n",
       "      <td>-0.126</td>\n",
       "    </tr>\n",
       "    <tr>\n",
       "      <th>percentage_license</th>\n",
       "      <td>-0.015</td>\n",
       "      <td>-0.048</td>\n",
       "      <td>-0.031</td>\n",
       "    </tr>\n",
       "    <tr>\n",
       "      <th rowspan=\"2\" valign=\"top\">scores</th>\n",
       "      <th>flesch_reading_scores</th>\n",
       "      <td>0.143</td>\n",
       "      <td>0.062</td>\n",
       "      <td>-0.127</td>\n",
       "    </tr>\n",
       "    <tr>\n",
       "      <th>readmepp_normalized</th>\n",
       "      <td>0.140</td>\n",
       "      <td>0.026</td>\n",
       "      <td>-0.167</td>\n",
       "    </tr>\n",
       "  </tbody>\n",
       "</table>\n",
       "</div>"
      ],
      "text/plain": [
       "                                       likes_normalized  downloads_normalized  \\\n",
       "score_type index                                                                \n",
       "counts     code_blocks_count                      0.282                 0.120   \n",
       "           content_lines_count                    0.307                 0.137   \n",
       "           headers_count                          0.308                 0.135   \n",
       "           hyperlinks_count                       0.278                 0.108   \n",
       "           images_count                           0.155                -0.060   \n",
       "           lists_count                            0.121                 0.066   \n",
       "keyword    header_contributing                    0.117                -0.026   \n",
       "           header_getting-started                 0.138                 0.107   \n",
       "           header_license                         0.175                 0.011   \n",
       "content    percentage_contributing                0.117                -0.059   \n",
       "           percentage_getting-started             0.107                 0.035   \n",
       "           percentage_license                    -0.015                -0.048   \n",
       "scores     flesch_reading_scores                  0.143                 0.062   \n",
       "           readmepp_normalized                    0.140                 0.026   \n",
       "\n",
       "                                       onboarding_normalized  \n",
       "score_type index                                              \n",
       "counts     code_blocks_count                          -0.244  \n",
       "           content_lines_count                        -0.265  \n",
       "           headers_count                              -0.253  \n",
       "           hyperlinks_count                           -0.237  \n",
       "           images_count                               -0.158  \n",
       "           lists_count                                -0.086  \n",
       "keyword    header_contributing                        -0.123  \n",
       "           header_getting-started                     -0.112  \n",
       "           header_license                             -0.159  \n",
       "content    percentage_contributing                    -0.154  \n",
       "           percentage_getting-started                 -0.126  \n",
       "           percentage_license                         -0.031  \n",
       "scores     flesch_reading_scores                      -0.127  \n",
       "           readmepp_normalized                        -0.167  "
      ]
     },
     "execution_count": 78,
     "metadata": {},
     "output_type": "execute_result"
    }
   ],
   "source": [
    "# convert to pands dataframe with mulit index\n",
    "# rows is the score type\n",
    "# columns is the feature (with subcolumns for each method)\n",
    "\n",
    "score_df = pd.DataFrame()\n",
    "for score_type, score_data in score_dict.items():\n",
    "    df_sub = pd.DataFrame(score_data).T\n",
    "    df_sub = df_sub.reset_index()\n",
    "    df_sub.insert(0, \"score_type\", score_type)\n",
    "    \n",
    "    score_df = pd.concat([score_df, df_sub], axis=0)\n",
    "\n",
    "sort_array = [2] * len(content_indenpendant_columns) + [0] * len(count_independent_columns) + [1] * len(keyword_independent_columns) + [3] * len(score_independent_columns)\n",
    "df_group = score_df.groupby([\"score_type\",'index']).mean()\n",
    "df_group[\"sort\"] = sort_array\n",
    "df_group = df_group.sort_values(by=[\"sort\"]).drop(columns=\"sort\")\n",
    "df_group"
   ]
  },
  {
   "cell_type": "code",
   "execution_count": 73,
   "metadata": {},
   "outputs": [
    {
     "data": {
      "text/plain": [
       "[2, 2, 0, 0, 0, 0, 0, 0, 1, 1, 1, 3, 3, 3]"
      ]
     },
     "execution_count": 73,
     "metadata": {},
     "output_type": "execute_result"
    }
   ],
   "source": [
    "sort_array"
   ]
  },
  {
   "cell_type": "code",
   "execution_count": 26,
   "metadata": {},
   "outputs": [
    {
     "data": {
      "text/html": [
       "<div>\n",
       "<style scoped>\n",
       "    .dataframe tbody tr th:only-of-type {\n",
       "        vertical-align: middle;\n",
       "    }\n",
       "\n",
       "    .dataframe tbody tr th {\n",
       "        vertical-align: top;\n",
       "    }\n",
       "\n",
       "    .dataframe thead th {\n",
       "        text-align: right;\n",
       "    }\n",
       "</style>\n",
       "<table border=\"1\" class=\"dataframe\">\n",
       "  <thead>\n",
       "    <tr style=\"text-align: right;\">\n",
       "      <th></th>\n",
       "      <th>modelId</th>\n",
       "      <th>likes</th>\n",
       "      <th>modelName</th>\n",
       "      <th>author</th>\n",
       "      <th>downloads</th>\n",
       "      <th>lastModified</th>\n",
       "      <th>tags</th>\n",
       "      <th>pipeline_tag</th>\n",
       "      <th>sha</th>\n",
       "      <th>private</th>\n",
       "      <th>...</th>\n",
       "      <th>headers_count</th>\n",
       "      <th>header_getting-started</th>\n",
       "      <th>percentage_getting-started</th>\n",
       "      <th>header_contributing</th>\n",
       "      <th>percentage_contributing</th>\n",
       "      <th>header_license</th>\n",
       "      <th>percentage_license</th>\n",
       "      <th>downloads_normalized</th>\n",
       "      <th>likes_normalized</th>\n",
       "      <th>popularity_heurstic</th>\n",
       "    </tr>\n",
       "  </thead>\n",
       "  <tbody>\n",
       "    <tr>\n",
       "      <th>0</th>\n",
       "      <td>sentence-transformers/all-mpnet-base-v2</td>\n",
       "      <td>891</td>\n",
       "      <td>all-mpnet-base-v2</td>\n",
       "      <td>sentence-transformers</td>\n",
       "      <td>436946085</td>\n",
       "      <td>2024-11-05 15:25:48+00:00</td>\n",
       "      <td>['sentence-transformers', 'pytorch', 'onnx', '...</td>\n",
       "      <td>sentence-similarity</td>\n",
       "      <td>9a3225965996d404b775526de6dbfe85d3368642</td>\n",
       "      <td>False</td>\n",
       "      <td>...</td>\n",
       "      <td>0.496783</td>\n",
       "      <td>True</td>\n",
       "      <td>0.3</td>\n",
       "      <td>False</td>\n",
       "      <td>0.0</td>\n",
       "      <td>False</td>\n",
       "      <td>0.00</td>\n",
       "      <td>1.000000</td>\n",
       "      <td>0.753362</td>\n",
       "      <td>1.000000</td>\n",
       "    </tr>\n",
       "    <tr>\n",
       "      <th>1</th>\n",
       "      <td>sentence-transformers/all-MiniLM-L6-v2</td>\n",
       "      <td>2562</td>\n",
       "      <td>all-MiniLM-L6-v2</td>\n",
       "      <td>sentence-transformers</td>\n",
       "      <td>95520454</td>\n",
       "      <td>2024-11-01 10:26:30+00:00</td>\n",
       "      <td>['sentence-transformers', 'pytorch', 'tf', 'ru...</td>\n",
       "      <td>sentence-similarity</td>\n",
       "      <td>fa97f6e7cb1a59073dff9e6b13e2715cf7475ac9</td>\n",
       "      <td>False</td>\n",
       "      <td>...</td>\n",
       "      <td>0.496783</td>\n",
       "      <td>True</td>\n",
       "      <td>0.3</td>\n",
       "      <td>False</td>\n",
       "      <td>0.0</td>\n",
       "      <td>False</td>\n",
       "      <td>0.00</td>\n",
       "      <td>0.879567</td>\n",
       "      <td>0.883593</td>\n",
       "      <td>0.975130</td>\n",
       "    </tr>\n",
       "    <tr>\n",
       "      <th>2</th>\n",
       "      <td>nesaorg/benchmark_v0</td>\n",
       "      <td>1</td>\n",
       "      <td>benchmark_v0</td>\n",
       "      <td>nesaorg</td>\n",
       "      <td>73440489</td>\n",
       "      <td>2024-08-19 18:24:49+00:00</td>\n",
       "      <td>['safetensors', 'model_hub_mixin', 'pytorch_mo...</td>\n",
       "      <td>NaN</td>\n",
       "      <td>7e0c8823b673ea012ce4c0f9868802648a12305d</td>\n",
       "      <td>False</td>\n",
       "      <td>...</td>\n",
       "      <td>0.082473</td>\n",
       "      <td>False</td>\n",
       "      <td>0.0</td>\n",
       "      <td>False</td>\n",
       "      <td>0.0</td>\n",
       "      <td>False</td>\n",
       "      <td>0.00</td>\n",
       "      <td>0.858746</td>\n",
       "      <td>0.050064</td>\n",
       "      <td>0.600602</td>\n",
       "    </tr>\n",
       "    <tr>\n",
       "      <th>3</th>\n",
       "      <td>FacebookAI/xlm-roberta-large</td>\n",
       "      <td>349</td>\n",
       "      <td>xlm-roberta-large</td>\n",
       "      <td>FacebookAI</td>\n",
       "      <td>68346199</td>\n",
       "      <td>2024-02-19 12:48:30+00:00</td>\n",
       "      <td>['transformers', 'pytorch', 'tf', 'jax', 'onnx...</td>\n",
       "      <td>fill-mask</td>\n",
       "      <td>c23d21b0620b635a76227c604d44e43a9f0ee389</td>\n",
       "      <td>False</td>\n",
       "      <td>...</td>\n",
       "      <td>0.305935</td>\n",
       "      <td>True</td>\n",
       "      <td>0.3</td>\n",
       "      <td>False</td>\n",
       "      <td>0.0</td>\n",
       "      <td>False</td>\n",
       "      <td>0.00</td>\n",
       "      <td>0.853052</td>\n",
       "      <td>0.638063</td>\n",
       "      <td>0.851065</td>\n",
       "    </tr>\n",
       "    <tr>\n",
       "      <th>4</th>\n",
       "      <td>google-bert/bert-base-uncased</td>\n",
       "      <td>1914</td>\n",
       "      <td>bert-base-uncased</td>\n",
       "      <td>google-bert</td>\n",
       "      <td>68302750</td>\n",
       "      <td>2024-02-19 11:06:12+00:00</td>\n",
       "      <td>['transformers', 'pytorch', 'tf', 'jax', 'rust...</td>\n",
       "      <td>fill-mask</td>\n",
       "      <td>86b5e0934494bd15c9632b12f734a8a67f723594</td>\n",
       "      <td>False</td>\n",
       "      <td>...</td>\n",
       "      <td>0.409839</td>\n",
       "      <td>True</td>\n",
       "      <td>0.4</td>\n",
       "      <td>False</td>\n",
       "      <td>0.0</td>\n",
       "      <td>False</td>\n",
       "      <td>0.00</td>\n",
       "      <td>0.853001</td>\n",
       "      <td>0.847622</td>\n",
       "      <td>0.941663</td>\n",
       "    </tr>\n",
       "    <tr>\n",
       "      <th>...</th>\n",
       "      <td>...</td>\n",
       "      <td>...</td>\n",
       "      <td>...</td>\n",
       "      <td>...</td>\n",
       "      <td>...</td>\n",
       "      <td>...</td>\n",
       "      <td>...</td>\n",
       "      <td>...</td>\n",
       "      <td>...</td>\n",
       "      <td>...</td>\n",
       "      <td>...</td>\n",
       "      <td>...</td>\n",
       "      <td>...</td>\n",
       "      <td>...</td>\n",
       "      <td>...</td>\n",
       "      <td>...</td>\n",
       "      <td>...</td>\n",
       "      <td>...</td>\n",
       "      <td>...</td>\n",
       "      <td>...</td>\n",
       "      <td>...</td>\n",
       "    </tr>\n",
       "    <tr>\n",
       "      <th>11643</th>\n",
       "      <td>Lajonbot/Llama-2-7b-chat-hf-instruct-pl-lora_u...</td>\n",
       "      <td>1</td>\n",
       "      <td>Llama-2-7b-chat-hf-instruct-pl-lora_unload</td>\n",
       "      <td>Lajonbot</td>\n",
       "      <td>1435</td>\n",
       "      <td>2023-07-28 07:31:07+00:00</td>\n",
       "      <td>['transformers', 'pytorch', 'llama', 'text-gen...</td>\n",
       "      <td>text-generation</td>\n",
       "      <td>f838fda8d2b97effae1e8af4dbb6217eab14fb7e</td>\n",
       "      <td>False</td>\n",
       "      <td>...</td>\n",
       "      <td>0.000000</td>\n",
       "      <td>False</td>\n",
       "      <td>0.0</td>\n",
       "      <td>False</td>\n",
       "      <td>0.0</td>\n",
       "      <td>False</td>\n",
       "      <td>0.00</td>\n",
       "      <td>0.000000</td>\n",
       "      <td>0.050064</td>\n",
       "      <td>0.021652</td>\n",
       "    </tr>\n",
       "    <tr>\n",
       "      <th>11644</th>\n",
       "      <td>jondurbin/airoboros-l2-7b-2.1</td>\n",
       "      <td>6</td>\n",
       "      <td>airoboros-l2-7b-2.1</td>\n",
       "      <td>jondurbin</td>\n",
       "      <td>1435</td>\n",
       "      <td>2023-09-08 09:24:46+00:00</td>\n",
       "      <td>['transformers', 'pytorch', 'llama', 'text-gen...</td>\n",
       "      <td>text-generation</td>\n",
       "      <td>bc5737f0e7636fae2b22c5ccdee96ec5d5e1e1e4</td>\n",
       "      <td>False</td>\n",
       "      <td>...</td>\n",
       "      <td>0.380732</td>\n",
       "      <td>True</td>\n",
       "      <td>0.3</td>\n",
       "      <td>True</td>\n",
       "      <td>0.1</td>\n",
       "      <td>True</td>\n",
       "      <td>0.25</td>\n",
       "      <td>0.000000</td>\n",
       "      <td>0.171170</td>\n",
       "      <td>0.074029</td>\n",
       "    </tr>\n",
       "    <tr>\n",
       "      <th>11645</th>\n",
       "      <td>CHIH-HUNG/llama-2-13b-FINETUNE1_17w</td>\n",
       "      <td>0</td>\n",
       "      <td>llama-2-13b-FINETUNE1_17w</td>\n",
       "      <td>CHIH-HUNG</td>\n",
       "      <td>1435</td>\n",
       "      <td>2023-09-13 17:41:38+00:00</td>\n",
       "      <td>['transformers', 'pytorch', 'llama', 'text-gen...</td>\n",
       "      <td>text-generation</td>\n",
       "      <td>b499f140dc69506035dcb8212c66fcedff933d29</td>\n",
       "      <td>False</td>\n",
       "      <td>...</td>\n",
       "      <td>0.346753</td>\n",
       "      <td>False</td>\n",
       "      <td>0.0</td>\n",
       "      <td>False</td>\n",
       "      <td>0.0</td>\n",
       "      <td>False</td>\n",
       "      <td>0.00</td>\n",
       "      <td>0.000000</td>\n",
       "      <td>0.000000</td>\n",
       "      <td>0.000000</td>\n",
       "    </tr>\n",
       "    <tr>\n",
       "      <th>11646</th>\n",
       "      <td>CHIH-HUNG/llama-2-13b-FINETUNE1_17w-r4</td>\n",
       "      <td>0</td>\n",
       "      <td>llama-2-13b-FINETUNE1_17w-r4</td>\n",
       "      <td>CHIH-HUNG</td>\n",
       "      <td>1435</td>\n",
       "      <td>2023-09-12 12:33:46+00:00</td>\n",
       "      <td>['transformers', 'pytorch', 'llama', 'text-gen...</td>\n",
       "      <td>text-generation</td>\n",
       "      <td>bae66e90d7e30e4d6f8cf7cd460f52b993d49244</td>\n",
       "      <td>False</td>\n",
       "      <td>...</td>\n",
       "      <td>0.346753</td>\n",
       "      <td>False</td>\n",
       "      <td>0.0</td>\n",
       "      <td>False</td>\n",
       "      <td>0.0</td>\n",
       "      <td>False</td>\n",
       "      <td>0.00</td>\n",
       "      <td>0.000000</td>\n",
       "      <td>0.000000</td>\n",
       "      <td>0.000000</td>\n",
       "    </tr>\n",
       "    <tr>\n",
       "      <th>11647</th>\n",
       "      <td>Envoid/Libra-19B</td>\n",
       "      <td>2</td>\n",
       "      <td>Libra-19B</td>\n",
       "      <td>Envoid</td>\n",
       "      <td>1435</td>\n",
       "      <td>2024-03-16 06:41:43+00:00</td>\n",
       "      <td>['transformers', 'pytorch', 'llama', 'text-gen...</td>\n",
       "      <td>text-generation</td>\n",
       "      <td>352a917b57843412495739034ef9ec2f327d605d</td>\n",
       "      <td>False</td>\n",
       "      <td>...</td>\n",
       "      <td>0.281978</td>\n",
       "      <td>False</td>\n",
       "      <td>0.0</td>\n",
       "      <td>False</td>\n",
       "      <td>0.0</td>\n",
       "      <td>False</td>\n",
       "      <td>0.00</td>\n",
       "      <td>0.000000</td>\n",
       "      <td>0.085585</td>\n",
       "      <td>0.037014</td>\n",
       "    </tr>\n",
       "  </tbody>\n",
       "</table>\n",
       "<p>10858 rows × 28 columns</p>\n",
       "</div>"
      ],
      "text/plain": [
       "                                                 modelId  likes  \\\n",
       "0                sentence-transformers/all-mpnet-base-v2    891   \n",
       "1                 sentence-transformers/all-MiniLM-L6-v2   2562   \n",
       "2                                   nesaorg/benchmark_v0      1   \n",
       "3                           FacebookAI/xlm-roberta-large    349   \n",
       "4                          google-bert/bert-base-uncased   1914   \n",
       "...                                                  ...    ...   \n",
       "11643  Lajonbot/Llama-2-7b-chat-hf-instruct-pl-lora_u...      1   \n",
       "11644                      jondurbin/airoboros-l2-7b-2.1      6   \n",
       "11645                CHIH-HUNG/llama-2-13b-FINETUNE1_17w      0   \n",
       "11646             CHIH-HUNG/llama-2-13b-FINETUNE1_17w-r4      0   \n",
       "11647                                   Envoid/Libra-19B      2   \n",
       "\n",
       "                                        modelName                 author  \\\n",
       "0                               all-mpnet-base-v2  sentence-transformers   \n",
       "1                                all-MiniLM-L6-v2  sentence-transformers   \n",
       "2                                    benchmark_v0                nesaorg   \n",
       "3                               xlm-roberta-large             FacebookAI   \n",
       "4                               bert-base-uncased            google-bert   \n",
       "...                                           ...                    ...   \n",
       "11643  Llama-2-7b-chat-hf-instruct-pl-lora_unload               Lajonbot   \n",
       "11644                         airoboros-l2-7b-2.1              jondurbin   \n",
       "11645                   llama-2-13b-FINETUNE1_17w              CHIH-HUNG   \n",
       "11646                llama-2-13b-FINETUNE1_17w-r4              CHIH-HUNG   \n",
       "11647                                   Libra-19B                 Envoid   \n",
       "\n",
       "       downloads               lastModified  \\\n",
       "0      436946085  2024-11-05 15:25:48+00:00   \n",
       "1       95520454  2024-11-01 10:26:30+00:00   \n",
       "2       73440489  2024-08-19 18:24:49+00:00   \n",
       "3       68346199  2024-02-19 12:48:30+00:00   \n",
       "4       68302750  2024-02-19 11:06:12+00:00   \n",
       "...          ...                        ...   \n",
       "11643       1435  2023-07-28 07:31:07+00:00   \n",
       "11644       1435  2023-09-08 09:24:46+00:00   \n",
       "11645       1435  2023-09-13 17:41:38+00:00   \n",
       "11646       1435  2023-09-12 12:33:46+00:00   \n",
       "11647       1435  2024-03-16 06:41:43+00:00   \n",
       "\n",
       "                                                    tags         pipeline_tag  \\\n",
       "0      ['sentence-transformers', 'pytorch', 'onnx', '...  sentence-similarity   \n",
       "1      ['sentence-transformers', 'pytorch', 'tf', 'ru...  sentence-similarity   \n",
       "2      ['safetensors', 'model_hub_mixin', 'pytorch_mo...                  NaN   \n",
       "3      ['transformers', 'pytorch', 'tf', 'jax', 'onnx...            fill-mask   \n",
       "4      ['transformers', 'pytorch', 'tf', 'jax', 'rust...            fill-mask   \n",
       "...                                                  ...                  ...   \n",
       "11643  ['transformers', 'pytorch', 'llama', 'text-gen...      text-generation   \n",
       "11644  ['transformers', 'pytorch', 'llama', 'text-gen...      text-generation   \n",
       "11645  ['transformers', 'pytorch', 'llama', 'text-gen...      text-generation   \n",
       "11646  ['transformers', 'pytorch', 'llama', 'text-gen...      text-generation   \n",
       "11647  ['transformers', 'pytorch', 'llama', 'text-gen...      text-generation   \n",
       "\n",
       "                                            sha  private  ... headers_count  \\\n",
       "0      9a3225965996d404b775526de6dbfe85d3368642    False  ...      0.496783   \n",
       "1      fa97f6e7cb1a59073dff9e6b13e2715cf7475ac9    False  ...      0.496783   \n",
       "2      7e0c8823b673ea012ce4c0f9868802648a12305d    False  ...      0.082473   \n",
       "3      c23d21b0620b635a76227c604d44e43a9f0ee389    False  ...      0.305935   \n",
       "4      86b5e0934494bd15c9632b12f734a8a67f723594    False  ...      0.409839   \n",
       "...                                         ...      ...  ...           ...   \n",
       "11643  f838fda8d2b97effae1e8af4dbb6217eab14fb7e    False  ...      0.000000   \n",
       "11644  bc5737f0e7636fae2b22c5ccdee96ec5d5e1e1e4    False  ...      0.380732   \n",
       "11645  b499f140dc69506035dcb8212c66fcedff933d29    False  ...      0.346753   \n",
       "11646  bae66e90d7e30e4d6f8cf7cd460f52b993d49244    False  ...      0.346753   \n",
       "11647  352a917b57843412495739034ef9ec2f327d605d    False  ...      0.281978   \n",
       "\n",
       "      header_getting-started  percentage_getting-started  header_contributing  \\\n",
       "0                       True                         0.3                False   \n",
       "1                       True                         0.3                False   \n",
       "2                      False                         0.0                False   \n",
       "3                       True                         0.3                False   \n",
       "4                       True                         0.4                False   \n",
       "...                      ...                         ...                  ...   \n",
       "11643                  False                         0.0                False   \n",
       "11644                   True                         0.3                 True   \n",
       "11645                  False                         0.0                False   \n",
       "11646                  False                         0.0                False   \n",
       "11647                  False                         0.0                False   \n",
       "\n",
       "       percentage_contributing  header_license  percentage_license  \\\n",
       "0                          0.0           False                0.00   \n",
       "1                          0.0           False                0.00   \n",
       "2                          0.0           False                0.00   \n",
       "3                          0.0           False                0.00   \n",
       "4                          0.0           False                0.00   \n",
       "...                        ...             ...                 ...   \n",
       "11643                      0.0           False                0.00   \n",
       "11644                      0.1            True                0.25   \n",
       "11645                      0.0           False                0.00   \n",
       "11646                      0.0           False                0.00   \n",
       "11647                      0.0           False                0.00   \n",
       "\n",
       "       downloads_normalized  likes_normalized  popularity_heurstic  \n",
       "0                  1.000000          0.753362             1.000000  \n",
       "1                  0.879567          0.883593             0.975130  \n",
       "2                  0.858746          0.050064             0.600602  \n",
       "3                  0.853052          0.638063             0.851065  \n",
       "4                  0.853001          0.847622             0.941663  \n",
       "...                     ...               ...                  ...  \n",
       "11643              0.000000          0.050064             0.021652  \n",
       "11644              0.000000          0.171170             0.074029  \n",
       "11645              0.000000          0.000000             0.000000  \n",
       "11646              0.000000          0.000000             0.000000  \n",
       "11647              0.000000          0.085585             0.037014  \n",
       "\n",
       "[10858 rows x 28 columns]"
      ]
     },
     "execution_count": 26,
     "metadata": {},
     "output_type": "execute_result"
    }
   ],
   "source": [
    "repos_df"
   ]
  },
  {
   "cell_type": "code",
   "execution_count": 27,
   "metadata": {},
   "outputs": [
    {
     "name": "stdout",
     "output_type": "stream",
     "text": [
      "getting-started: 4190\n",
      "contributing: 1453\n",
      "license: 1071\n"
     ]
    }
   ],
   "source": [
    "print(f\"getting-started: {repos_df['header_getting-started'].sum()}\")\n",
    "print(f\"contributing: {repos_df['header_contributing'].sum()}\")\n",
    "print(f\"license: {repos_df['header_license'].sum()}\")"
   ]
  }
 ],
 "metadata": {
  "kernelspec": {
   "display_name": ".venv",
   "language": "python",
   "name": "python3"
  },
  "language_info": {
   "codemirror_mode": {
    "name": "ipython",
    "version": 3
   },
   "file_extension": ".py",
   "mimetype": "text/x-python",
   "name": "python",
   "nbconvert_exporter": "python",
   "pygments_lexer": "ipython3",
   "version": "3.11.3"
  }
 },
 "nbformat": 4,
 "nbformat_minor": 2
}
